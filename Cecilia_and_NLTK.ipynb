{
  "nbformat": 4,
  "nbformat_minor": 0,
  "metadata": {
    "colab": {
      "provenance": [],
      "collapsed_sections": [
        "V-Ah1DLUaVJF",
        "4P6_exkacqpM",
        "UZsNQhHXesmt",
        "TG-gW6CxSane",
        "mHOHlxtaX5D-",
        "Jt8KJA8yZs_r",
        "UnT98lnFfWL7",
        "Y8y1b2z1jRmr"
      ],
      "toc_visible": true,
      "authorship_tag": "ABX9TyMRACEGkvW9XSgRuJg9JJSf",
      "include_colab_link": true
    },
    "kernelspec": {
      "name": "python3",
      "display_name": "Python 3"
    },
    "language_info": {
      "name": "python"
    }
  },
  "cells": [
    {
      "cell_type": "markdown",
      "metadata": {
        "id": "view-in-github",
        "colab_type": "text"
      },
      "source": [
        "<a href=\"https://colab.research.google.com/github/hilaryhavens/Cecilia-Harrel-Delvile/blob/main/Cecilia_and_NLTK.ipynb\" target=\"_parent\"><img src=\"https://colab.research.google.com/assets/colab-badge.svg\" alt=\"Open In Colab\"/></a>"
      ]
    },
    {
      "cell_type": "markdown",
      "source": [
        "#Opening Files with Python"
      ],
      "metadata": {
        "id": "a-YmmRSrcYIu"
      }
    },
    {
      "cell_type": "code",
      "source": [
        "with open(\"/content/cecilia/Del_s.txt\") as file:\n",
        "  del_word_list = file.read().lower().split(\" \")"
      ],
      "metadata": {
        "id": "64VTKrjS1bAT"
      },
      "execution_count": 1,
      "outputs": []
    },
    {
      "cell_type": "code",
      "source": [
        "del_word_list[1:1000]"
      ],
      "metadata": {
        "colab": {
          "base_uri": "https://localhost:8080/"
        },
        "id": "4gu7ZkUmdjWb",
        "outputId": "35183d52-993e-492e-8c86-06af269c5d61"
      },
      "execution_count": 2,
      "outputs": [
        {
          "output_type": "execute_result",
          "data": {
            "text/plain": [
              "['cross',\n",
              " 'him',\n",
              " 'though',\n",
              " 'he',\n",
              " 'blast',\n",
              " 'me\\nharlequin',\n",
              " 'do',\n",
              " 'you',\n",
              " 'fear',\n",
              " 'to',\n",
              " 'fight',\n",
              " 'the',\n",
              " 'devil\\nyour',\n",
              " 'persecutor',\n",
              " 'i',\n",
              " 'presume',\n",
              " 'is',\n",
              " 'known',\n",
              " 'to',\n",
              " 'you\\no',\n",
              " 'depend',\n",
              " 'upon',\n",
              " 'it',\n",
              " 'there',\n",
              " 'are',\n",
              " 'many',\n",
              " 'who',\n",
              " 'would',\n",
              " 'be',\n",
              " 'happy',\n",
              " 'to',\n",
              " 'confine',\n",
              " 'you',\n",
              " 'in',\n",
              " 'the',\n",
              " 'same',\n",
              " 'manner',\n",
              " 'neither',\n",
              " 'have',\n",
              " 'you',\n",
              " 'much',\n",
              " 'cause',\n",
              " 'for',\n",
              " 'complaint',\n",
              " 'you',\n",
              " 'have',\n",
              " 'doubtless',\n",
              " 'been',\n",
              " 'the',\n",
              " 'aggressor',\n",
              " 'and',\n",
              " 'played',\n",
              " 'this',\n",
              " 'game',\n",
              " 'yourself',\n",
              " 'without',\n",
              " 'mercy',\n",
              " 'for',\n",
              " 'i',\n",
              " 'read',\n",
              " 'in',\n",
              " 'your',\n",
              " 'face',\n",
              " 'the',\n",
              " 'captivity',\n",
              " 'of',\n",
              " 'thousands',\n",
              " 'have',\n",
              " 'you',\n",
              " 'then',\n",
              " 'any',\n",
              " 'right',\n",
              " 'to',\n",
              " 'be',\n",
              " 'offended',\n",
              " 'at',\n",
              " 'the',\n",
              " 'spirit',\n",
              " 'of',\n",
              " 'retaliation',\n",
              " 'which',\n",
              " 'one',\n",
              " 'out',\n",
              " 'of',\n",
              " 'such',\n",
              " 'numbers',\n",
              " 'has',\n",
              " 'courage',\n",
              " 'to',\n",
              " 'exert',\n",
              " 'in',\n",
              " 'return\\nfrom',\n",
              " 'seeing',\n",
              " 'the',\n",
              " 'danger',\n",
              " 'to',\n",
              " 'which',\n",
              " 'my',\n",
              " 'incautious',\n",
              " 'knight',\n",
              " 'errantry',\n",
              " 'has',\n",
              " 'exposed',\n",
              " 'me',\n",
              " 'i',\n",
              " 'begin',\n",
              " 'indeed',\n",
              " 'to',\n",
              " 'take',\n",
              " 'you',\n",
              " 'for',\n",
              " 'a',\n",
              " 'very',\n",
              " 'mischievous',\n",
              " 'sort',\n",
              " 'of',\n",
              " 'person',\n",
              " 'and',\n",
              " 'i',\n",
              " 'fear',\n",
              " 'the',\n",
              " 'poor',\n",
              " 'devil',\n",
              " 'from',\n",
              " 'whom',\n",
              " 'i',\n",
              " 'rescued',\n",
              " 'you',\n",
              " 'will',\n",
              " 'be',\n",
              " 'amply',\n",
              " 'revenged',\n",
              " 'for',\n",
              " 'his',\n",
              " 'disgrace',\n",
              " 'by',\n",
              " 'finding',\n",
              " 'that',\n",
              " 'the',\n",
              " 'first',\n",
              " 'use',\n",
              " 'you',\n",
              " 'make',\n",
              " 'of',\n",
              " 'your',\n",
              " 'freedom',\n",
              " 'is',\n",
              " 'to',\n",
              " 'doom',\n",
              " 'your',\n",
              " 'deliverer',\n",
              " 'to',\n",
              " 'bondage\\ncan',\n",
              " 'you',\n",
              " 'conjecture',\n",
              " 'who',\n",
              " 'was',\n",
              " 'making',\n",
              " 'those',\n",
              " 'soft',\n",
              " 'speeches',\n",
              " 'a',\n",
              " 'shylock',\n",
              " 'his',\n",
              " 'knife',\n",
              " 'all',\n",
              " 'the',\n",
              " 'time',\n",
              " 'in',\n",
              " 'his',\n",
              " 'hand',\n",
              " 'and',\n",
              " 'his',\n",
              " 'design',\n",
              " 'doubtless',\n",
              " 'to',\n",
              " 'cut',\n",
              " 'as',\n",
              " 'near',\n",
              " 'the',\n",
              " 'heart',\n",
              " 'as',\n",
              " 'possible',\n",
              " 'while',\n",
              " 'the',\n",
              " 'loud',\n",
              " 'cackling',\n",
              " 'from',\n",
              " 'the',\n",
              " 'other',\n",
              " 'side',\n",
              " 'is',\n",
              " 'owing',\n",
              " 'to',\n",
              " 'the',\n",
              " 'riotous',\n",
              " 'merriment',\n",
              " 'of',\n",
              " 'a',\n",
              " 'noisy',\n",
              " 'mentor',\n",
              " 'when',\n",
              " 'next',\n",
              " 'i',\n",
              " 'hear',\n",
              " 'a',\n",
              " 'disturbance',\n",
              " 'i',\n",
              " 'shall',\n",
              " 'expect',\n",
              " 'to',\n",
              " 'see',\n",
              " 'some',\n",
              " 'simpering',\n",
              " 'pythagoras',\n",
              " 'stunned',\n",
              " 'by',\n",
              " 'his',\n",
              " 'talkative',\n",
              " 'disciples\\nyou',\n",
              " 'cannot',\n",
              " 'then',\n",
              " 'have',\n",
              " 'wanted',\n",
              " 'amusement',\n",
              " 'for',\n",
              " 'among',\n",
              " 'all',\n",
              " 'the',\n",
              " 'persons',\n",
              " 'assembled',\n",
              " 'in',\n",
              " 'these',\n",
              " 'apartments',\n",
              " 'i',\n",
              " 'have',\n",
              " 'seen',\n",
              " 'only',\n",
              " 'three',\n",
              " 'who',\n",
              " 'have',\n",
              " 'seemed',\n",
              " 'conscious',\n",
              " 'that',\n",
              " 'any',\n",
              " 'change',\n",
              " 'but',\n",
              " 'that',\n",
              " 'of',\n",
              " 'dress',\n",
              " 'was',\n",
              " 'necessary',\n",
              " 'to',\n",
              " 'disguise',\n",
              " 'them\\na',\n",
              " 'don',\n",
              " 'quixote',\n",
              " 'a',\n",
              " 'school-master',\n",
              " 'and',\n",
              " 'your',\n",
              " 'friend',\n",
              " 'the',\n",
              " 'devil\\nmy',\n",
              " 'friend',\n",
              " 'then',\n",
              " 'i',\n",
              " 'will',\n",
              " 'call',\n",
              " 'him',\n",
              " 'for',\n",
              " 'so',\n",
              " 'were',\n",
              " 'he',\n",
              " 'ten',\n",
              " 'devils',\n",
              " 'i',\n",
              " 'must',\n",
              " 'think',\n",
              " 'him',\n",
              " 'since',\n",
              " 'i',\n",
              " 'owe',\n",
              " 'to',\n",
              " 'him',\n",
              " 'the',\n",
              " 'honour',\n",
              " 'of',\n",
              " 'conversing',\n",
              " 'with',\n",
              " 'you',\n",
              " 'and',\n",
              " 'after',\n",
              " 'all',\n",
              " 'to',\n",
              " 'give',\n",
              " 'him',\n",
              " 'his',\n",
              " 'due',\n",
              " 'to',\n",
              " 'which',\n",
              " 'you',\n",
              " 'know',\n",
              " 'he',\n",
              " 'is',\n",
              " 'even',\n",
              " 'proverbially',\n",
              " 'entitled',\n",
              " 'he',\n",
              " 'has',\n",
              " 'shewn',\n",
              " 'such',\n",
              " 'abilities',\n",
              " 'in',\n",
              " 'the',\n",
              " 'performance',\n",
              " 'of',\n",
              " 'his',\n",
              " 'part',\n",
              " 'so',\n",
              " 'much',\n",
              " 'skill',\n",
              " 'in',\n",
              " 'the',\n",
              " 'display',\n",
              " 'of',\n",
              " 'malice',\n",
              " 'and',\n",
              " 'so',\n",
              " 'much',\n",
              " 'perseverance',\n",
              " 'in',\n",
              " 'the',\n",
              " 'art',\n",
              " 'of',\n",
              " 'tormenting',\n",
              " 'that',\n",
              " 'i',\n",
              " 'cannot',\n",
              " 'but',\n",
              " 'respect',\n",
              " 'his',\n",
              " 'ingenuity',\n",
              " 'and',\n",
              " 'capacity',\n",
              " 'and',\n",
              " 'indeed',\n",
              " 'if',\n",
              " 'instead',\n",
              " 'of',\n",
              " 'an',\n",
              " 'evil',\n",
              " 'genius',\n",
              " 'he',\n",
              " 'had',\n",
              " 'represented',\n",
              " 'a',\n",
              " 'guardian',\n",
              " 'angel',\n",
              " 'he',\n",
              " 'could',\n",
              " 'not',\n",
              " 'have',\n",
              " 'shewn',\n",
              " 'a',\n",
              " 'more',\n",
              " 'refined',\n",
              " 'taste',\n",
              " 'in',\n",
              " 'his',\n",
              " 'choice',\n",
              " 'of',\n",
              " 'an',\n",
              " 'object',\n",
              " 'to',\n",
              " 'hover',\n",
              " 'about\\nyou',\n",
              " 'look',\n",
              " 'as',\n",
              " 'gay',\n",
              " 'and',\n",
              " 'as',\n",
              " 'brisk',\n",
              " 'as',\n",
              " 'if',\n",
              " 'fresh',\n",
              " 'from',\n",
              " 'the',\n",
              " 'hay-field',\n",
              " 'after',\n",
              " 'only',\n",
              " 'half',\n",
              " 'a',\n",
              " 'day’s',\n",
              " 'work',\n",
              " 'pray',\n",
              " 'how',\n",
              " 'is',\n",
              " 'it',\n",
              " 'you',\n",
              " 'pretty',\n",
              " 'lasses',\n",
              " 'find',\n",
              " 'employment',\n",
              " 'for',\n",
              " 'the',\n",
              " 'winter\\nhow',\n",
              " 'true',\n",
              " 'is',\n",
              " 'it',\n",
              " 'yet',\n",
              " 'how',\n",
              " 'inconsistent',\n",
              " 'that',\n",
              " 'while',\n",
              " 'we',\n",
              " 'all',\n",
              " 'desire',\n",
              " 'to',\n",
              " 'live',\n",
              " 'long',\n",
              " 'we',\n",
              " 'have',\n",
              " 'all',\n",
              " 'an',\n",
              " 'horror',\n",
              " 'of',\n",
              " 'being',\n",
              " 'old',\n",
              " 'the',\n",
              " 'figure',\n",
              " 'now',\n",
              " 'passing',\n",
              " 'is',\n",
              " 'not',\n",
              " 'meant',\n",
              " 'to',\n",
              " 'ridicule',\n",
              " 'any',\n",
              " 'particular',\n",
              " 'person',\n",
              " 'nor',\n",
              " 'to',\n",
              " 'stigmatize',\n",
              " 'any',\n",
              " 'particular',\n",
              " 'absurdity',\n",
              " 'its',\n",
              " 'sole',\n",
              " 'view',\n",
              " 'is',\n",
              " 'to',\n",
              " 'expose',\n",
              " 'to',\n",
              " 'contempt',\n",
              " 'and',\n",
              " 'derision',\n",
              " 'the',\n",
              " 'general',\n",
              " 'and',\n",
              " 'natural',\n",
              " 'infirmities',\n",
              " 'of',\n",
              " 'age',\n",
              " 'and',\n",
              " 'the',\n",
              " 'design',\n",
              " 'is',\n",
              " 'not',\n",
              " 'more',\n",
              " 'disgusting',\n",
              " 'than',\n",
              " 'impolitic',\n",
              " 'for',\n",
              " 'why',\n",
              " 'while',\n",
              " 'so',\n",
              " 'carefully',\n",
              " 'we',\n",
              " 'guard',\n",
              " 'from',\n",
              " 'all',\n",
              " 'approaches',\n",
              " 'of',\n",
              " 'death',\n",
              " 'should',\n",
              " 'we',\n",
              " 'close',\n",
              " 'the',\n",
              " 'only',\n",
              " 'avenues',\n",
              " 'to',\n",
              " 'happiness',\n",
              " 'in',\n",
              " 'long',\n",
              " 'life',\n",
              " 'respect',\n",
              " 'and',\n",
              " 'tenderness\\nfear',\n",
              " 'not',\n",
              " 'he',\n",
              " 'is',\n",
              " 'an',\n",
              " 'evil',\n",
              " 'spirit',\n",
              " 'and',\n",
              " 'we',\n",
              " 'will',\n",
              " 'surely',\n",
              " 'lay',\n",
              " 'him',\n",
              " 'if',\n",
              " 'one',\n",
              " 'spell',\n",
              " 'fails',\n",
              " 'we',\n",
              " 'must',\n",
              " 'try',\n",
              " 'another\\nyou',\n",
              " 'told',\n",
              " 'me',\n",
              " 'you',\n",
              " 'knew',\n",
              " 'him',\n",
              " 'has',\n",
              " 'he',\n",
              " 'any',\n",
              " 'right',\n",
              " 'to',\n",
              " 'follow',\n",
              " 'you\\nwe',\n",
              " 'shall',\n",
              " 'at',\n",
              " 'least',\n",
              " 'fortify',\n",
              " 'you',\n",
              " 'from',\n",
              " 'any',\n",
              " 'other',\n",
              " 'assailant',\n",
              " 'no',\n",
              " 'three-headed',\n",
              " 'cerberus',\n",
              " 'could',\n",
              " 'protect',\n",
              " 'you',\n",
              " 'more',\n",
              " 'effectually',\n",
              " 'but',\n",
              " 'you',\n",
              " 'will',\n",
              " 'not',\n",
              " 'therefore',\n",
              " 'fancy',\n",
              " 'yourself',\n",
              " 'in',\n",
              " 'the',\n",
              " 'lower',\n",
              " 'regions',\n",
              " 'for',\n",
              " 'if',\n",
              " 'i',\n",
              " 'mistake',\n",
              " 'not',\n",
              " 'the',\n",
              " 'torment',\n",
              " 'of',\n",
              " 'three',\n",
              " 'guardians',\n",
              " 'is',\n",
              " 'nothing',\n",
              " 'new',\n",
              " 'to',\n",
              " 'you\\nno',\n",
              " 'you',\n",
              " 'will',\n",
              " 'find',\n",
              " 'me',\n",
              " 'as',\n",
              " 'inoffensive',\n",
              " 'as',\n",
              " 'the',\n",
              " 'hue',\n",
              " 'of',\n",
              " 'the',\n",
              " 'domino',\n",
              " 'i',\n",
              " 'wear',\n",
              " '',\n",
              " 'and',\n",
              " 'would',\n",
              " 'i',\n",
              " 'could',\n",
              " 'add',\n",
              " 'as',\n",
              " 'insensible\\ndo',\n",
              " 'you',\n",
              " 'not',\n",
              " 'know',\n",
              " '\\ndid',\n",
              " 'your',\n",
              " 'late',\n",
              " 'uncle',\n",
              " 'chuse',\n",
              " 'for',\n",
              " 'two',\n",
              " 'of',\n",
              " 'your',\n",
              " 'guardians',\n",
              " 'mr',\n",
              " 'harrel',\n",
              " 'and',\n",
              " 'mr',\n",
              " 'briggs',\n",
              " 'to',\n",
              " 'give',\n",
              " 'you',\n",
              " 'an',\n",
              " 'early',\n",
              " 'lesson',\n",
              " 'upon',\n",
              " 'the',\n",
              " 'opposite',\n",
              " 'errors',\n",
              " 'of',\n",
              " 'profusion',\n",
              " 'and',\n",
              " 'meanness\\nno',\n",
              " 'for',\n",
              " 'my',\n",
              " 'happiness',\n",
              " 'i',\n",
              " 'knew',\n",
              " 'him',\n",
              " 'not\\nperhaps',\n",
              " 'so',\n",
              " 'but',\n",
              " 'i',\n",
              " 'fear',\n",
              " 'i',\n",
              " 'should',\n",
              " 'have',\n",
              " 'found',\n",
              " 'the',\n",
              " 'good',\n",
              " 'he',\n",
              " 'dispensed',\n",
              " 'through',\n",
              " 'his',\n",
              " 'niece',\n",
              " 'not',\n",
              " 'quite',\n",
              " 'unmixed',\n",
              " 'with',\n",
              " 'evil\\npray',\n",
              " 'look',\n",
              " 'at',\n",
              " 'that',\n",
              " 'figure',\n",
              " 'of',\n",
              " 'hope',\n",
              " 'is',\n",
              " 'there',\n",
              " 'any',\n",
              " 'in',\n",
              " 'the',\n",
              " 'room',\n",
              " 'half',\n",
              " 'so',\n",
              " 'expressive',\n",
              " 'of',\n",
              " 'despondency\\no',\n",
              " 'for',\n",
              " 'a',\n",
              " 'midas',\n",
              " 'to',\n",
              " 'return',\n",
              " 'to',\n",
              " 'this',\n",
              " 'leather-eared',\n",
              " 'god',\n",
              " 'the',\n",
              " 'disgrace',\n",
              " 'he',\n",
              " 'received',\n",
              " 'from',\n",
              " 'him\\ndo',\n",
              " 'you',\n",
              " 'think',\n",
              " 'then',\n",
              " 'more',\n",
              " 'highly',\n",
              " 'of',\n",
              " 'mr',\n",
              " 'briggs',\n",
              " 'for',\n",
              " 'discernment',\n",
              " 'and',\n",
              " 'taste',\n",
              " 'than',\n",
              " 'of',\n",
              " 'any',\n",
              " 'body\\nthe',\n",
              " 'commission',\n",
              " 'with',\n",
              " 'which',\n",
              " 'he',\n",
              " 'is',\n",
              " 'charged',\n",
              " 'has',\n",
              " 'then',\n",
              " 'misled',\n",
              " 'me',\n",
              " 'i',\n",
              " 'imagined',\n",
              " 'discernment',\n",
              " 'and',\n",
              " 'taste',\n",
              " 'might',\n",
              " 'be',\n",
              " 'necessary',\n",
              " 'ingredients',\n",
              " 'for',\n",
              " 'making',\n",
              " 'such',\n",
              " 'a',\n",
              " 'choice',\n",
              " 'as',\n",
              " 'your',\n",
              " 'approbation',\n",
              " 'would',\n",
              " 'sanctify',\n",
              " 'but',\n",
              " 'perhaps',\n",
              " 'his',\n",
              " 'skill',\n",
              " 'in',\n",
              " 'guarding',\n",
              " 'against',\n",
              " 'any',\n",
              " 'fraud',\n",
              " 'or',\n",
              " 'deduction',\n",
              " 'in',\n",
              " 'the',\n",
              " 'stipulation',\n",
              " 'he',\n",
              " 'mentioned',\n",
              " 'may',\n",
              " 'be',\n",
              " 'all',\n",
              " 'that',\n",
              " 'is',\n",
              " 'requisite',\n",
              " 'for',\n",
              " 'the',\n",
              " 'execution',\n",
              " 'of',\n",
              " 'his',\n",
              " 'trust\\nmy',\n",
              " 'meaning',\n",
              " 'should',\n",
              " 'i',\n",
              " 'express',\n",
              " 'it',\n",
              " 'seriously',\n",
              " 'would',\n",
              " 'but',\n",
              " 'prove',\n",
              " 'to',\n",
              " 'you',\n",
              " 'the',\n",
              " 'respect',\n",
              " 'and',\n",
              " 'admiration',\n",
              " 'with',\n",
              " 'which',\n",
              " 'you',\n",
              " 'have',\n",
              " 'inspired',\n",
              " 'me',\n",
              " 'and',\n",
              " 'if',\n",
              " 'indeed',\n",
              " 'as',\n",
              " 'mr',\n",
              " 'briggs',\n",
              " 'hinted',\n",
              " 'such',\n",
              " 'a',\n",
              " 'prize',\n",
              " 'is',\n",
              " 'to',\n",
              " 'be',\n",
              " 'purchased',\n",
              " 'by',\n",
              " 'riches',\n",
              " 'i',\n",
              " 'know',\n",
              " 'not',\n",
              " 'from',\n",
              " 'what',\n",
              " 'i',\n",
              " 'have',\n",
              " 'seen',\n",
              " 'of',\n",
              " 'its',\n",
              " 'merit',\n",
              " 'any',\n",
              " 'sum',\n",
              " 'i',\n",
              " 'should',\n",
              " 'think',\n",
              " 'adequate',\n",
              " 'to',\n",
              " 'its',\n",
              " 'value\\nthe',\n",
              " 'conflict',\n",
              " 'at',\n",
              " 'the',\n",
              " 'door',\n",
              " 'will',\n",
              " 'quite',\n",
              " 'overpower',\n",
              " 'you',\n",
              " 'stay',\n",
              " 'here',\n",
              " 'but',\n",
              " 'a',\n",
              " 'few',\n",
              " 'minutes',\n",
              " 'and',\n",
              " 'both',\n",
              " 'parties',\n",
              " 'will',\n",
              " 'have',\n",
              " 'struggled',\n",
              " 'themselves',\n",
              " 'tired',\n",
              " 'and',\n",
              " 'you',\n",
              " 'may',\n",
              " 'then',\n",
              " 'go',\n",
              " 'without',\n",
              " 'difficulty',\n",
              " 'mean',\n",
              " 'time',\n",
              " 'can',\n",
              " 'you',\n",
              " 'not',\n",
              " 'by',\n",
              " 'this',\n",
              " 'faint',\n",
              " 'light',\n",
              " 'suppose',\n",
              " 'me',\n",
              " 'one',\n",
              " 'of',\n",
              " 'your',\n",
              " 'guardians',\n",
              " 'mr',\n",
              " 'briggs',\n",
              " 'for',\n",
              " 'example',\n",
              " 'or',\n",
              " 'if',\n",
              " 'he',\n",
              " 'is',\n",
              " 'too',\n",
              " 'old',\n",
              " 'for',\n",
              " 'me',\n",
              " 'mr',\n",
              " 'harrel',\n",
              " 'and',\n",
              " 'entrust',\n",
              " 'yourself',\n",
              " 'to',\n",
              " 'my',\n",
              " 'care\\nnor',\n",
              " 'can',\n",
              " 'i',\n",
              " 'imagine',\n",
              " 'how',\n",
              " 'mr',\n",
              " 'briggs',\n",
              " 'became',\n",
              " 'so',\n",
              " 'particularly',\n",
              " 'your',\n",
              " 'favourite',\n",
              " 'as',\n",
              " 'to',\n",
              " 'be',\n",
              " 'entrusted',\n",
              " 'with',\n",
              " 'powers',\n",
              " 'to',\n",
              " 'dispose',\n",
              " 'of',\n",
              " 'you\\nbut',\n",
              " 'how',\n",
              " 'has',\n",
              " 'mr',\n",
              " 'delvile',\n",
              " 'offended',\n",
              " 'you',\n",
              " 'that',\n",
              " 'with',\n",
              " 'him',\n",
              " 'only',\n",
              " 'you',\n",
              " 'seem',\n",
              " 'to',\n",
              " 'have',\n",
              " 'no',\n",
              " 'commerce',\n",
              " 'or',\n",
              " 'communication\\nhe',\n",
              " 'is',\n",
              " 'certainly',\n",
              " 'a',\n",
              " 'man',\n",
              " 'of',\n",
              " 'fashion',\n",
              " 'and',\n",
              " 'he',\n",
              " 'is',\n",
              " 'also',\n",
              " 'a',\n",
              " 'man',\n",
              " 'of',\n",
              " 'honour',\n",
              " 'surely',\n",
              " 'then',\n",
              " 'he',\n",
              " 'would',\n",
              " 'be',\n",
              " 'more',\n",
              " 'pleasant',\n",
              " 'for',\n",
              " 'confidence',\n",
              " 'and',\n",
              " 'consultation',\n",
              " 'than',\n",
              " 'one',\n",
              " 'whose',\n",
              " 'only',\n",
              " 'notion',\n",
              " 'of',\n",
              " 'happiness',\n",
              " 'is',\n",
              " 'money',\n",
              " 'whose',\n",
              " 'only',\n",
              " 'idea',\n",
              " 'of',\n",
              " 'excellence',\n",
              " 'is',\n",
              " 'avarice',\n",
              " 'and',\n",
              " 'whose',\n",
              " 'only',\n",
              " 'conception',\n",
              " 'of',\n",
              " 'sense',\n",
              " 'is',\n",
              " 'distrust\\nyou',\n",
              " 'think',\n",
              " 'perhaps',\n",
              " 'i',\n",
              " 'shall',\n",
              " 'never',\n",
              " 'be',\n",
              " 'gone',\n",
              " 'and',\n",
              " 'indeed',\n",
              " 'i',\n",
              " 'am',\n",
              " 'almost',\n",
              " 'of',\n",
              " 'the',\n",
              " 'same',\n",
              " 'opinion',\n",
              " 'but',\n",
              " 'what',\n",
              " 'can',\n",
              " 'i',\n",
              " 'do',\n",
              " 'instead',\n",
              " 'of',\n",
              " 'growing',\n",
              " 'weary',\n",
              " 'by',\n",
              " 'the',\n",
              " 'length',\n",
              " 'of',\n",
              " 'my']"
            ]
          },
          "metadata": {},
          "execution_count": 2
        }
      ]
    },
    {
      "cell_type": "code",
      "source": [
        "print(len(del_word_list))"
      ],
      "metadata": {
        "colab": {
          "base_uri": "https://localhost:8080/"
        },
        "id": "GJhuz1HIdp1J",
        "outputId": "05d27b82-3516-4f40-9353-c5feef9a4807"
      },
      "execution_count": 3,
      "outputs": [
        {
          "output_type": "stream",
          "name": "stdout",
          "text": [
            "20562\n"
          ]
        }
      ]
    },
    {
      "cell_type": "markdown",
      "source": [
        "##NLTK"
      ],
      "metadata": {
        "id": "So00NvlGgoD3"
      }
    },
    {
      "cell_type": "code",
      "source": [
        "import nltk"
      ],
      "metadata": {
        "id": "NaLSC658hF_e"
      },
      "execution_count": 4,
      "outputs": []
    },
    {
      "cell_type": "code",
      "source": [
        "print(nltk.__file__)"
      ],
      "metadata": {
        "colab": {
          "base_uri": "https://localhost:8080/"
        },
        "id": "esb7DJtVhOdL",
        "outputId": "407a7874-0a1b-479c-a10a-3fc36510013d"
      },
      "execution_count": 5,
      "outputs": [
        {
          "output_type": "stream",
          "name": "stdout",
          "text": [
            "/usr/local/lib/python3.10/dist-packages/nltk/__init__.py\n"
          ]
        }
      ]
    },
    {
      "cell_type": "code",
      "source": [
        "nltk.download(\"popular\")"
      ],
      "metadata": {
        "id": "Q_JC7nJLh_5N",
        "colab": {
          "base_uri": "https://localhost:8080/"
        },
        "outputId": "9849931b-2d86-485c-807e-8abf2a646ba6"
      },
      "execution_count": 6,
      "outputs": [
        {
          "output_type": "stream",
          "name": "stderr",
          "text": [
            "[nltk_data] Downloading collection 'popular'\n",
            "[nltk_data]    | \n",
            "[nltk_data]    | Downloading package cmudict to /root/nltk_data...\n",
            "[nltk_data]    |   Package cmudict is already up-to-date!\n",
            "[nltk_data]    | Downloading package gazetteers to /root/nltk_data...\n",
            "[nltk_data]    |   Package gazetteers is already up-to-date!\n",
            "[nltk_data]    | Downloading package genesis to /root/nltk_data...\n",
            "[nltk_data]    |   Package genesis is already up-to-date!\n",
            "[nltk_data]    | Downloading package gutenberg to /root/nltk_data...\n",
            "[nltk_data]    |   Package gutenberg is already up-to-date!\n",
            "[nltk_data]    | Downloading package inaugural to /root/nltk_data...\n",
            "[nltk_data]    |   Package inaugural is already up-to-date!\n",
            "[nltk_data]    | Downloading package movie_reviews to\n",
            "[nltk_data]    |     /root/nltk_data...\n",
            "[nltk_data]    |   Package movie_reviews is already up-to-date!\n",
            "[nltk_data]    | Downloading package names to /root/nltk_data...\n",
            "[nltk_data]    |   Package names is already up-to-date!\n",
            "[nltk_data]    | Downloading package shakespeare to /root/nltk_data...\n",
            "[nltk_data]    |   Package shakespeare is already up-to-date!\n",
            "[nltk_data]    | Downloading package stopwords to /root/nltk_data...\n",
            "[nltk_data]    |   Package stopwords is already up-to-date!\n",
            "[nltk_data]    | Downloading package treebank to /root/nltk_data...\n",
            "[nltk_data]    |   Package treebank is already up-to-date!\n",
            "[nltk_data]    | Downloading package twitter_samples to\n",
            "[nltk_data]    |     /root/nltk_data...\n",
            "[nltk_data]    |   Package twitter_samples is already up-to-date!\n",
            "[nltk_data]    | Downloading package omw to /root/nltk_data...\n",
            "[nltk_data]    |   Package omw is already up-to-date!\n",
            "[nltk_data]    | Downloading package omw-1.4 to /root/nltk_data...\n",
            "[nltk_data]    |   Package omw-1.4 is already up-to-date!\n",
            "[nltk_data]    | Downloading package wordnet to /root/nltk_data...\n",
            "[nltk_data]    |   Package wordnet is already up-to-date!\n",
            "[nltk_data]    | Downloading package wordnet2021 to /root/nltk_data...\n",
            "[nltk_data]    |   Package wordnet2021 is already up-to-date!\n",
            "[nltk_data]    | Downloading package wordnet31 to /root/nltk_data...\n",
            "[nltk_data]    |   Package wordnet31 is already up-to-date!\n",
            "[nltk_data]    | Downloading package wordnet_ic to /root/nltk_data...\n",
            "[nltk_data]    |   Package wordnet_ic is already up-to-date!\n",
            "[nltk_data]    | Downloading package words to /root/nltk_data...\n",
            "[nltk_data]    |   Package words is already up-to-date!\n",
            "[nltk_data]    | Downloading package maxent_ne_chunker to\n",
            "[nltk_data]    |     /root/nltk_data...\n",
            "[nltk_data]    |   Package maxent_ne_chunker is already up-to-date!\n",
            "[nltk_data]    | Downloading package punkt to /root/nltk_data...\n",
            "[nltk_data]    |   Package punkt is already up-to-date!\n",
            "[nltk_data]    | Downloading package snowball_data to\n",
            "[nltk_data]    |     /root/nltk_data...\n",
            "[nltk_data]    |   Package snowball_data is already up-to-date!\n",
            "[nltk_data]    | Downloading package averaged_perceptron_tagger to\n",
            "[nltk_data]    |     /root/nltk_data...\n",
            "[nltk_data]    |   Package averaged_perceptron_tagger is already up-\n",
            "[nltk_data]    |       to-date!\n",
            "[nltk_data]    | \n",
            "[nltk_data]  Done downloading collection popular\n"
          ]
        },
        {
          "output_type": "execute_result",
          "data": {
            "text/plain": [
              "True"
            ]
          },
          "metadata": {},
          "execution_count": 6
        }
      ]
    },
    {
      "cell_type": "code",
      "source": [
        "print(nltk.data.path)"
      ],
      "metadata": {
        "colab": {
          "base_uri": "https://localhost:8080/"
        },
        "id": "KilXBpDxiNfy",
        "outputId": "66137e2c-1ce7-41e0-b8d7-898f2a8065ae"
      },
      "execution_count": 7,
      "outputs": [
        {
          "output_type": "stream",
          "name": "stdout",
          "text": [
            "['/root/nltk_data', '/usr/nltk_data', '/usr/share/nltk_data', '/usr/lib/nltk_data', '/usr/share/nltk_data', '/usr/local/share/nltk_data', '/usr/lib/nltk_data', '/usr/local/lib/nltk_data']\n"
          ]
        }
      ]
    },
    {
      "cell_type": "code",
      "source": [
        "del_string = nltk.corpus.gutenberg.raw(\"/content/cecilia/Del_s.txt\")\n",
        "del_word_tokens = nltk.corpus.gutenberg.words(\"/content/cecilia/Del_s.txt\")"
      ],
      "metadata": {
        "id": "VJhbZM5QjGUC"
      },
      "execution_count": 8,
      "outputs": []
    },
    {
      "cell_type": "code",
      "source": [
        "print(\"The number of word characters in Delvile's speech\", len(del_string))\n",
        "print(\"The number of words in Delvile's speech\", len(del_word_tokens))"
      ],
      "metadata": {
        "colab": {
          "base_uri": "https://localhost:8080/"
        },
        "id": "JdEkW8N_jft6",
        "outputId": "33537782-ebc9-4923-935f-6ca8248cbd6d"
      },
      "execution_count": 9,
      "outputs": [
        {
          "output_type": "stream",
          "name": "stdout",
          "text": [
            "The number of word characters in Delvile's speech 111149\n",
            "The number of words in Delvile's speech 21067\n"
          ]
        }
      ]
    },
    {
      "cell_type": "code",
      "source": [
        "print(len(del_word_list))"
      ],
      "metadata": {
        "colab": {
          "base_uri": "https://localhost:8080/"
        },
        "id": "JXw7sXxgj7Dl",
        "outputId": "e862135f-dca8-4c91-bd0a-c7d52e3c666c"
      },
      "execution_count": 10,
      "outputs": [
        {
          "output_type": "stream",
          "name": "stdout",
          "text": [
            "20562\n"
          ]
        }
      ]
    },
    {
      "cell_type": "code",
      "source": [
        "del_freqs = nltk.FreqDist(del_word_tokens)"
      ],
      "metadata": {
        "id": "GdF2psHuk81J"
      },
      "execution_count": 11,
      "outputs": []
    },
    {
      "cell_type": "code",
      "source": [
        "del_freqs.tabulate(15)"
      ],
      "metadata": {
        "colab": {
          "base_uri": "https://localhost:8080/"
        },
        "id": "h11NJez_lfjW",
        "outputId": "15d0dfc4-4e42-4835-9863-da97fd9d9d88"
      },
      "execution_count": 12,
      "outputs": [
        {
          "output_type": "stream",
          "name": "stdout",
          "text": [
            "   I   to  you  the  and   of   me   my  not   is    a   in have your   it \n",
            " 844  779  583  548  488  429  368  347  278  266  260  254  236  235  230 \n"
          ]
        }
      ]
    },
    {
      "cell_type": "code",
      "source": [
        "del_freqs.most_common(50)"
      ],
      "metadata": {
        "id": "AM-W1ie9lkZ7",
        "colab": {
          "base_uri": "https://localhost:8080/"
        },
        "outputId": "0c1a5ad1-da8d-4c7c-d305-bc634ad3035e"
      },
      "execution_count": 13,
      "outputs": [
        {
          "output_type": "execute_result",
          "data": {
            "text/plain": [
              "[('I', 844),\n",
              " ('to', 779),\n",
              " ('you', 583),\n",
              " ('the', 548),\n",
              " ('and', 488),\n",
              " ('of', 429),\n",
              " ('me', 368),\n",
              " ('my', 347),\n",
              " ('not', 278),\n",
              " ('is', 266),\n",
              " ('a', 260),\n",
              " ('in', 254),\n",
              " ('have', 236),\n",
              " ('your', 235),\n",
              " ('it', 230),\n",
              " ('that', 212),\n",
              " ('for', 210),\n",
              " ('be', 197),\n",
              " ('will', 173),\n",
              " ('but', 167),\n",
              " ('with', 155),\n",
              " ('as', 150),\n",
              " ('by', 132),\n",
              " ('her', 127),\n",
              " ('so', 126),\n",
              " ('this', 124),\n",
              " ('all', 116),\n",
              " ('what', 113),\n",
              " ('which', 112),\n",
              " ('his', 108),\n",
              " ('from', 106),\n",
              " ('was', 105),\n",
              " ('then', 104),\n",
              " ('he', 100),\n",
              " ('at', 98),\n",
              " ('him', 94),\n",
              " ('had', 94),\n",
              " ('no', 93),\n",
              " ('are', 84),\n",
              " ('such', 79),\n",
              " ('has', 75),\n",
              " ('if', 74),\n",
              " ('would', 73),\n",
              " ('upon', 72),\n",
              " ('may', 70),\n",
              " ('can', 66),\n",
              " ('she', 66),\n",
              " ('now', 65),\n",
              " ('more', 64),\n",
              " ('must', 63)]"
            ]
          },
          "metadata": {},
          "execution_count": 13
        }
      ]
    },
    {
      "cell_type": "code",
      "source": [
        "print(del_freqs[\"Cecilia\"])\n",
        "print(del_freqs[\"Delvile\"])\n",
        "print(del_freqs[\"Harrel\"])"
      ],
      "metadata": {
        "colab": {
          "base_uri": "https://localhost:8080/"
        },
        "id": "d39EkZCIluYl",
        "outputId": "abbf1cc4-2848-4e49-a8c3-c24ff35b9a91"
      },
      "execution_count": 14,
      "outputs": [
        {
          "output_type": "stream",
          "name": "stdout",
          "text": [
            "50\n",
            "11\n",
            "6\n"
          ]
        }
      ]
    },
    {
      "cell_type": "markdown",
      "source": [
        "##Normalization"
      ],
      "metadata": {
        "id": "Nd84oqpwl5xA"
      }
    },
    {
      "cell_type": "code",
      "source": [
        "from nltk.corpus import stopwords"
      ],
      "metadata": {
        "id": "65pDGLOhl7wc"
      },
      "execution_count": 16,
      "outputs": []
    },
    {
      "cell_type": "code",
      "source": [
        "print(stopwords.fileids())"
      ],
      "metadata": {
        "colab": {
          "base_uri": "https://localhost:8080/"
        },
        "id": "pfWgOLcgm0yC",
        "outputId": "a85a35d6-0bc6-4de9-fa55-91ef47924514"
      },
      "execution_count": 17,
      "outputs": [
        {
          "output_type": "stream",
          "name": "stdout",
          "text": [
            "['arabic', 'azerbaijani', 'basque', 'bengali', 'catalan', 'chinese', 'danish', 'dutch', 'english', 'finnish', 'french', 'german', 'greek', 'hebrew', 'hinglish', 'hungarian', 'indonesian', 'italian', 'kazakh', 'nepali', 'norwegian', 'portuguese', 'romanian', 'russian', 'slovene', 'spanish', 'swedish', 'tajik', 'turkish']\n"
          ]
        }
      ]
    },
    {
      "cell_type": "code",
      "source": [
        "stops = set(stopwords.words(\"english\"))"
      ],
      "metadata": {
        "id": "lFLCL3g6m8_o"
      },
      "execution_count": 18,
      "outputs": []
    },
    {
      "cell_type": "code",
      "source": [
        "def normalize_no_stops(doc):\n",
        "  word_tokens_normalized = []\n",
        "  for word in doc:\n",
        "    word = word.lower()\n",
        "    if word != \"\" and word not in stops:\n",
        "      word_tokens_normalized.append(word)\n",
        "  return word_tokens_normalized"
      ],
      "metadata": {
        "id": "UCAIWkfonFwL"
      },
      "execution_count": 19,
      "outputs": []
    },
    {
      "cell_type": "code",
      "source": [
        "del_word_tokens_normalized = normalize_no_stops(del_word_tokens)"
      ],
      "metadata": {
        "id": "_XJi1UpaoXll"
      },
      "execution_count": 20,
      "outputs": []
    },
    {
      "cell_type": "code",
      "source": [
        "del_word_tokens_normalized[:20]"
      ],
      "metadata": {
        "id": "I2iT9na5oi5i",
        "colab": {
          "base_uri": "https://localhost:8080/"
        },
        "outputId": "3a48e893-d712-41de-a624-ca3bc8c7c734"
      },
      "execution_count": 21,
      "outputs": [
        {
          "output_type": "execute_result",
          "data": {
            "text/plain": [
              "['iâ',\n",
              " '\\x80\\x99',\n",
              " 'cross',\n",
              " 'though',\n",
              " 'blast',\n",
              " 'harlequin',\n",
              " 'fear',\n",
              " 'fight',\n",
              " 'devil',\n",
              " 'persecutor',\n",
              " 'presume',\n",
              " 'known',\n",
              " 'depend',\n",
              " 'upon',\n",
              " 'many',\n",
              " 'would',\n",
              " 'happy',\n",
              " 'confine',\n",
              " 'manner',\n",
              " 'neither']"
            ]
          },
          "metadata": {},
          "execution_count": 21
        }
      ]
    },
    {
      "cell_type": "code",
      "source": [
        "del_freqs_normalized = nltk.FreqDist(del_word_tokens_normalized)"
      ],
      "metadata": {
        "id": "z18rlrIhqaEP"
      },
      "execution_count": 22,
      "outputs": []
    },
    {
      "cell_type": "code",
      "source": [
        "del_freqs_normalized.most_common(10)"
      ],
      "metadata": {
        "id": "LHPlEgfWqiKp",
        "colab": {
          "base_uri": "https://localhost:8080/"
        },
        "outputId": "8a575f21-8135-464f-8a5b-6eb93a5ef084"
      },
      "execution_count": 23,
      "outputs": [
        {
          "output_type": "execute_result",
          "data": {
            "text/plain": [
              "[('would', 75),\n",
              " ('upon', 73),\n",
              " ('may', 73),\n",
              " ('must', 65),\n",
              " ('miss', 62),\n",
              " ('beverley', 59),\n",
              " ('shall', 52),\n",
              " ('indeed', 51),\n",
              " ('yet', 51),\n",
              " ('cecilia', 50)]"
            ]
          },
          "metadata": {},
          "execution_count": 23
        }
      ]
    },
    {
      "cell_type": "code",
      "source": [
        "import matplotlib.pyplot as plt\n",
        "plt.figure(figsize=(20,10))\n",
        "del_freqs_normalized.plot(75)"
      ],
      "metadata": {
        "colab": {
          "base_uri": "https://localhost:8080/",
          "height": 506
        },
        "id": "SJFWvApwqxVA",
        "outputId": "be649225-afb9-4bb8-8211-ba31b5b2390b"
      },
      "execution_count": 24,
      "outputs": [
        {
          "output_type": "display_data",
          "data": {
            "text/plain": [
              "<Figure size 2000x1000 with 1 Axes>"
            ],
            "image/png": "[encoded data removed]"
          },
          "metadata": {}
        },
        {
          "output_type": "execute_result",
          "data": {
            "text/plain": [
              "<Axes: xlabel='Samples', ylabel='Counts'>"
            ]
          },
          "metadata": {},
          "execution_count": 24
        }
      ]
    },
    {
      "cell_type": "code",
      "source": [
        "from pprint import pprint\n",
        "\n",
        "del_long_words = []\n",
        "for word in del_word_tokens_normalized:\n",
        "  if len(word) > 12:\n",
        "    del_long_words.append(word)\n",
        "pprint(set(del_long_words))"
      ],
      "metadata": {
        "colab": {
          "base_uri": "https://localhost:8080/"
        },
        "id": "RooYoMnqdqa4",
        "outputId": "88f3ac7e-e0da-4411-bc10-1fb21f976d6d"
      },
      "execution_count": 25,
      "outputs": [
        {
          "output_type": "stream",
          "name": "stdout",
          "text": [
            "{'accomplishments',\n",
            " 'acknowledging',\n",
            " 'acknowledgments',\n",
            " 'apprehensions',\n",
            " 'circumstances',\n",
            " 'communicating',\n",
            " 'communication',\n",
            " 'condescending',\n",
            " 'condescension',\n",
            " 'consciousness',\n",
            " 'consideration',\n",
            " 'considerations',\n",
            " 'demonstration',\n",
            " 'disappointment',\n",
            " 'dishonourable',\n",
            " 'disinterestedly',\n",
            " 'dispassionately',\n",
            " 'distinguished',\n",
            " 'encouragement',\n",
            " 'entertainment',\n",
            " 'extraordinary',\n",
            " 'gratification',\n",
            " 'imperceptibly',\n",
            " 'impracticable',\n",
            " 'inadvertently',\n",
            " 'inconsistency',\n",
            " 'indiscriminate',\n",
            " 'indisposition',\n",
            " 'inflexibility',\n",
            " 'ingenuousness',\n",
            " 'insensibility',\n",
            " 'insupportable',\n",
            " 'insurmountable',\n",
            " 'involuntarily',\n",
            " 'irretrievable',\n",
            " 'justification',\n",
            " 'misrepresented',\n",
            " 'mortification',\n",
            " 'protestations',\n",
            " 'unaccountably',\n",
            " 'understanding',\n",
            " 'unexceptionable',\n",
            " 'unfortunately',\n",
            " 'unjustifiable',\n",
            " 'unnecessarily',\n",
            " 'unpremeditated',\n",
            " 'unreluctantly',\n",
            " 'unsatisfactory',\n",
            " 'whithersoever'}\n"
          ]
        }
      ]
    },
    {
      "cell_type": "markdown",
      "source": [
        "##Stemming"
      ],
      "metadata": {
        "id": "UnT98lnFfWL7"
      }
    },
    {
      "cell_type": "code",
      "source": [
        "from nltk.stem import PorterStemmer"
      ],
      "metadata": {
        "id": "SeFHESKqfXfS"
      },
      "execution_count": 68,
      "outputs": []
    },
    {
      "cell_type": "code",
      "source": [
        "ps = PorterStemmer()"
      ],
      "metadata": {
        "id": "0Qj44YXTfkRv"
      },
      "execution_count": 69,
      "outputs": []
    },
    {
      "cell_type": "code",
      "source": [
        "from nltk.tokenize import sent_tokenize, word_tokenize"
      ],
      "metadata": {
        "id": "HYl72_bpiE4_"
      },
      "execution_count": 70,
      "outputs": []
    },
    {
      "cell_type": "markdown",
      "source": [
        "#NLTK Corpus Reader"
      ],
      "metadata": {
        "id": "Y8y1b2z1jRmr"
      }
    },
    {
      "cell_type": "code",
      "source": [
        "from nltk.corpus.reader import PlaintextCorpusReader"
      ],
      "metadata": {
        "id": "K4qVVFlhk6bu"
      },
      "execution_count": 26,
      "outputs": []
    },
    {
      "cell_type": "code",
      "source": [
        "plain_text_object = PlaintextCorpusReader(\"/content/cecilia\", [\"Del_s.txt\"])"
      ],
      "metadata": {
        "id": "zXsVzA_SlAgs"
      },
      "execution_count": 27,
      "outputs": []
    },
    {
      "cell_type": "code",
      "source": [
        "plain_text_object"
      ],
      "metadata": {
        "colab": {
          "base_uri": "https://localhost:8080/"
        },
        "id": "uuuz2EdllVKg",
        "outputId": "9792ef82-d63e-4af3-9ad6-632e5da239d9"
      },
      "execution_count": 28,
      "outputs": [
        {
          "output_type": "execute_result",
          "data": {
            "text/plain": [
              "<PlaintextCorpusReader in '/content/cecilia'>"
            ]
          },
          "metadata": {},
          "execution_count": 28
        }
      ]
    },
    {
      "cell_type": "code",
      "source": [
        "plain_text_object.words()"
      ],
      "metadata": {
        "colab": {
          "base_uri": "https://localhost:8080/"
        },
        "id": "tex5F8FkmQ6q",
        "outputId": "17346d47-496e-45be-face-6b0f112c9af3"
      },
      "execution_count": 29,
      "outputs": [
        {
          "output_type": "execute_result",
          "data": {
            "text/plain": [
              "['I', '’', 'll', 'cross', 'him', 'though', 'he', ...]"
            ]
          },
          "metadata": {},
          "execution_count": 29
        }
      ]
    },
    {
      "cell_type": "markdown",
      "source": [
        "## NLTK Text Object"
      ],
      "metadata": {
        "id": "9_30reZyqqeS"
      }
    },
    {
      "cell_type": "code",
      "source": [
        "del_text_object = nltk.Text(del_word_tokens)\n",
        "del_text_object_normalized = nltk.Text(del_word_tokens_normalized)"
      ],
      "metadata": {
        "id": "sCT5huS_quCx"
      },
      "execution_count": 30,
      "outputs": []
    },
    {
      "cell_type": "code",
      "source": [
        "print(del_text_object)"
      ],
      "metadata": {
        "colab": {
          "base_uri": "https://localhost:8080/"
        },
        "id": "1ak1pd8pq3RP",
        "outputId": "7dddad99-932d-4a70-d30f-835ebb11cb28"
      },
      "execution_count": 31,
      "outputs": [
        {
          "output_type": "stream",
          "name": "stdout",
          "text": [
            "<Text: Iâ  ll cross him though he blast...>\n"
          ]
        }
      ]
    },
    {
      "cell_type": "code",
      "source": [
        "del_text_object.concordance(\"Cecilia\", 50, 10)\n",
        "# First number after the word is number of characters, second is limit of matches"
      ],
      "metadata": {
        "id": "TdvpPaJSrJq-",
        "colab": {
          "base_uri": "https://localhost:8080/"
        },
        "outputId": "6b61c525-bb85-4176-8eeb-f2d33c66a2e4"
      },
      "execution_count": 32,
      "outputs": [
        {
          "output_type": "stream",
          "name": "stdout",
          "text": [
            "Displaying 10 of 50 matches:\n",
            "s for ever pardon me Cecilia Madam Miss Beverley \n",
            "en shall my soothing Cecilia Â ¬ Â ¬ You are prob\n",
            " pitying sympathy of Cecilia Impossible different\n",
            "ion Be mine sweetest Cecilia and all will go well\n",
            "I had hoped Oh cruel Cecilia how different to thi\n",
            "is it possible Oh my Cecilia is it possible your \n",
            "y will recompense my Cecilia for every pang she n\n",
            " is it you are about Cecilia I beseech you return\n",
            "urn I conjure you my Cecilia my wife why is it yo\n",
            "rlton bring her back Cecilia you must not go Wher\n"
          ]
        }
      ]
    },
    {
      "cell_type": "code",
      "source": [
        "del_text_object.concordance(\"mother\", 50, 10)"
      ],
      "metadata": {
        "id": "61qJtbocrlqL",
        "colab": {
          "base_uri": "https://localhost:8080/"
        },
        "outputId": "bf2d03d7-e594-4fb5-97fb-94183a1fd000"
      },
      "execution_count": 33,
      "outputs": [
        {
          "output_type": "stream",
          "name": "stdout",
          "text": [
            "Displaying 10 of 29 matches:\n",
            "his moment arrived my mother grew uneasy that she \n",
            "ble in herself Can my mother have a wish when I le\n",
            "ead I leave to you my mother certain of your sympa\n",
            "sionately loves me my mother though high - spirite\n",
            "tless entreaties of a mother whose every desire I \n",
            "carce are you more my mother than I consider her a\n",
            " Heaven be praised my mother has not voluntarily c\n",
            "r will Revive then my mother rely upon our plighte\n",
            "f again disturbing my mother and must therefore re\n",
            "e alarming I leave my mother therefore to your kin\n"
          ]
        }
      ]
    },
    {
      "cell_type": "code",
      "source": [
        "del_text_object_normalized.concordance(\"Cecilia\")"
      ],
      "metadata": {
        "id": "izo8oFMUr61m",
        "colab": {
          "base_uri": "https://localhost:8080/"
        },
        "outputId": "616d908e-96c1-4930-befd-cb2ec0f89484"
      },
      "execution_count": 34,
      "outputs": [
        {
          "output_type": "stream",
          "name": "stdout",
          "text": [
            "Displaying 25 of 50 matches:\n",
            "eet lovely burthen thus ever pardon cecilia madam miss beverley mean would obta\n",
            "te kindness sympathy shall soothing cecilia â ¬ â ¬ probably acquainted madam p\n",
            "titude spirit knew pitying sympathy cecilia impossible differently thought neve\n",
            "de lose gratification mine sweetest cecilia go well refer friends effectually b\n",
            "ding thus distressed hoped oh cruel cecilia different hope met doubts settled f\n",
            " upon decision hesitate possible oh cecilia possible resolution favour ere take\n",
            "ce every anniversary day recompense cecilia every pang suffers mean sir even se\n",
            "ve ceremony unfinished mrs charlton cecilia beseech return let service go insup\n",
            "rvice go insupportable turn conjure cecilia wife thus abandon turn implore rece\n",
            "ternal vows mrs charlton bring back cecilia must go infamous woman wretch thus \n",
            "hither going coach mrs charlton get cecilia mine wife part go whithersoever fol\n",
            "ness leave barbarous manner inhuman cecilia desert altar cast instant sacred ri\n",
            "sery depend upon one hold worthless cecilia faith felicity bid hope recompense \n",
            "d disdain oh candour thought lodged cecilia justice equity believed part oh fat\n",
            "some abhorrent quit thus insensibly cecilia beloved cecilia speak least one wor\n",
            "uit thus insensibly cecilia beloved cecilia speak least one word less severity \n",
            "ty look tell part - ever thought oh cecilia good heavens whence reproach permit\n",
            " thus disturbed eyes red weeping oh cecilia share sorrow tears never flow weakl\n",
            "ed moment oh mean loveliest dearest cecilia betrothed affianced wife flow tears\n",
            "ure draw upon sentence answer speak cecilia done yet conceived aversion dreadfu\n",
            "terly abhor suffer go pardon pardon cecilia exquisite delicacy betraying happin\n",
            "l separation repeal repeal sentence cecilia let us live consciences leave vain \n",
            "shakes resolution loveliest beloved cecilia forgive rash declaration retract fo\n",
            "ther matter heaven preserve angelic cecilia miss beverley mean heaven guide pro\n",
            "plication possible ah miss beverley cecilia wish possible hope would sweetness \n"
          ]
        }
      ]
    },
    {
      "cell_type": "code",
      "source": [
        "del_text_object.dispersion_plot([\"Cecilia\", \"mother\", \"father\"])"
      ],
      "metadata": {
        "colab": {
          "base_uri": "https://localhost:8080/",
          "height": 472
        },
        "id": "qnvfw2kxsR0n",
        "outputId": "32a54930-59b6-456b-9d38-db53183a4060"
      },
      "execution_count": 35,
      "outputs": [
        {
          "output_type": "display_data",
          "data": {
            "text/plain": [
              "<Figure size 640x480 with 1 Axes>"
            ],
            "image/png": "[encoded data removed]"
          },
          "metadata": {}
        }
      ]
    },
    {
      "cell_type": "code",
      "source": [
        "del_text_object.concordance(\"father\", 50, 20)"
      ],
      "metadata": {
        "colab": {
          "base_uri": "https://localhost:8080/"
        },
        "id": "caQkQxNxsm06",
        "outputId": "465a9ce9-b50f-422d-80f5-31bee795a1bb"
      },
      "execution_count": 36,
      "outputs": [
        {
          "output_type": "stream",
          "name": "stdout",
          "text": [
            "Displaying 20 of 25 matches:\n",
            "tion of rumour Had my father known the honour I ha\n",
            " introduced to her My father has left me an office\n",
            "ir I can represent my father may not the office yo\n",
            "so I wait only for my father But why is Miss Bever\n",
            "not to forgiveness My father though haughty dearly\n",
            "e she no more were my father also no more would yo\n",
            "and the estates of my father so entailed they must\n",
            "ions The curses of my father O no he could never b\n",
            "as given it me and my father himself has permitted\n",
            "utterly impossible My father Oh distraction what h\n",
            "d it not come from my father my resentment at it h\n",
            "s told all this by my father you may believe I had\n",
            "ut of the question my father ' s concurrence with \n",
            "usly she parted us my father ' s will happened to \n",
            " their concurrence my father of a temper immoveabl\n",
            "ir dissention From my father I may hope forgivenes\n",
            "present compliance My father I am certain by his l\n",
            "I wait I am undone my father by the orders I must \n",
            "uses in the manner my father does at present I mea\n",
            " or displeasure of my father settle wholly abroad \n"
          ]
        }
      ]
    },
    {
      "cell_type": "code",
      "source": [
        "del_text_object.count(\"Cecilia\")"
      ],
      "metadata": {
        "colab": {
          "base_uri": "https://localhost:8080/"
        },
        "id": "FewOZ14Ts17H",
        "outputId": "c1acd8c7-64fa-4026-9450-ef029a8a9255"
      },
      "execution_count": 37,
      "outputs": [
        {
          "output_type": "execute_result",
          "data": {
            "text/plain": [
              "50"
            ]
          },
          "metadata": {},
          "execution_count": 37
        }
      ]
    },
    {
      "cell_type": "code",
      "source": [
        "del_text_object_normalized.count(\"Cecilia\")"
      ],
      "metadata": {
        "colab": {
          "base_uri": "https://localhost:8080/"
        },
        "id": "Oc-EJltos431",
        "outputId": "8d80ad11-c793-45d0-ce40-39f81a573a4e"
      },
      "execution_count": 38,
      "outputs": [
        {
          "output_type": "execute_result",
          "data": {
            "text/plain": [
              "0"
            ]
          },
          "metadata": {},
          "execution_count": 38
        }
      ]
    },
    {
      "cell_type": "code",
      "source": [
        "del_text_object.similar(\"Cecilia\")\n",
        "# This is very useful and can be used for Harrel and Delvile to find similar associated words"
      ],
      "metadata": {
        "colab": {
          "base_uri": "https://localhost:8080/"
        },
        "id": "01rtZKImtQxN",
        "outputId": "cf397742-6dca-49a0-e482-eb97b1e1aaab"
      },
      "execution_count": 39,
      "outputs": [
        {
          "output_type": "stream",
          "name": "stdout",
          "text": [
            "mother mind father admiration reason esteem conduct sufferings absence\n",
            "feelings family love disappointment wife for and then heart possible\n",
            "side\n"
          ]
        }
      ]
    },
    {
      "cell_type": "code",
      "source": [
        "del_text_object.collocations(num=30)\n",
        "# Greatest number of associated words in the text"
      ],
      "metadata": {
        "colab": {
          "base_uri": "https://localhost:8080/"
        },
        "id": "tgnlbWuWuBDN",
        "outputId": "2183eb29-a610-40ab-e23b-e992ebf79029"
      },
      "execution_count": 40,
      "outputs": [
        {
          "output_type": "stream",
          "name": "stdout",
          "text": [
            "Miss Beverley; Sir Robert; Lady Honoria; Mrs Charlton; last night;\n",
            "every thing; wait upon; human nature; French beads; lost thee; Bristol\n",
            "stones; work upon; morrow morning; may perhaps; rely upon; Postilion\n",
            "drive; dear Doctor; held sacred; irritable state; young ladies; young\n",
            "man; come hither; late uncle; whole world; dear Fidel; perfectly safe;\n",
            "possible argument; however potent; returned home; cannot bear\n"
          ]
        }
      ]
    },
    {
      "cell_type": "code",
      "source": [
        "del_text_object_normalized.collocations(30)"
      ],
      "metadata": {
        "colab": {
          "base_uri": "https://localhost:8080/"
        },
        "id": "7aqRKvI5uR8q",
        "outputId": "aaa5aa6e-db20-4cab-f247-cda11f4e1913"
      },
      "execution_count": 41,
      "outputs": [
        {
          "output_type": "stream",
          "name": "stdout",
          "text": [
            "miss beverley; sir robert; lady honoria; mrs charlton; last night; beg\n",
            "pardon; every thing; wait upon; came hither; tear away; human nature;\n",
            "french beads; art thou; good heaven; beads bristol; bristol stones;\n",
            "infirmities age; sigh bitterly; lost thee; morrow morning; dear\n",
            "doctor; work upon; without explanation; without knowing; rely upon;\n",
            "held sacred; irritable state; young ladies; simple truth; discernment\n",
            "taste\n"
          ]
        }
      ]
    },
    {
      "cell_type": "markdown",
      "source": [
        "## Bigram Collocation Finder"
      ],
      "metadata": {
        "id": "CLzPmJ9Puolg"
      }
    },
    {
      "cell_type": "code",
      "source": [
        "from nltk.collocations import BigramCollocationFinder, BigramAssocMeasures"
      ],
      "metadata": {
        "id": "H57-bHRIus0a"
      },
      "execution_count": 42,
      "outputs": []
    },
    {
      "cell_type": "code",
      "source": [
        "def filter_stops(w):\n",
        "  filter_stops = \"\"\n",
        "  if len(w) < 3 or w in stops:\n",
        "    filter_stops = w\n",
        "  return filter_stops"
      ],
      "metadata": {
        "id": "1fZyL1o5u84r"
      },
      "execution_count": 43,
      "outputs": []
    },
    {
      "cell_type": "code",
      "source": [
        "bcf = BigramCollocationFinder.from_words(del_word_tokens)\n",
        "bcf.nbest(BigramAssocMeasures.likelihood_ratio, 4)"
      ],
      "metadata": {
        "colab": {
          "base_uri": "https://localhost:8080/"
        },
        "id": "wlhAWRmVvcia",
        "outputId": "8e363496-a418-47f4-a983-2bac80c4c45a"
      },
      "execution_count": 44,
      "outputs": [
        {
          "output_type": "execute_result",
          "data": {
            "text/plain": [
              "[('Miss', 'Beverley'), ('I', 'am'), ('I', 'have'), ('Â', '¬')]"
            ]
          },
          "metadata": {},
          "execution_count": 44
        }
      ]
    },
    {
      "cell_type": "code",
      "source": [
        "bcf.apply_word_filter(filter_stops)\n",
        "del_bigrams = bcf.nbest(BigramAssocMeasures.likelihood_ratio, 20)\n",
        "pprint(del_bigrams)"
      ],
      "metadata": {
        "colab": {
          "base_uri": "https://localhost:8080/"
        },
        "id": "o1X1fZbLv5eN",
        "outputId": "144fb1ad-d6d6-4dca-a685-552c1478e7a3"
      },
      "execution_count": 45,
      "outputs": [
        {
          "output_type": "stream",
          "name": "stdout",
          "text": [
            "[('Miss', 'Beverley'),\n",
            " ('Sir', 'Robert'),\n",
            " ('Lady', 'Honoria'),\n",
            " ('Mrs', 'Charlton'),\n",
            " ('last', 'night'),\n",
            " ('every', 'thing'),\n",
            " ('wait', 'upon'),\n",
            " ('human', 'nature'),\n",
            " ('French', 'beads'),\n",
            " ('lost', 'thee'),\n",
            " ('Bristol', 'stones'),\n",
            " ('work', 'upon'),\n",
            " ('morrow', 'morning'),\n",
            " ('Don', 'Quixote'),\n",
            " ('may', 'perhaps'),\n",
            " ('rely', 'upon'),\n",
            " ('Postilion', 'drive'),\n",
            " ('dear', 'Doctor'),\n",
            " ('held', 'sacred'),\n",
            " ('irritable', 'state')]\n"
          ]
        }
      ]
    },
    {
      "cell_type": "code",
      "source": [
        "del_ngrams = list(nltk.ngrams(del_word_tokens_normalized, 3))"
      ],
      "metadata": {
        "id": "0KhuwjUhwgVG"
      },
      "execution_count": 46,
      "outputs": []
    },
    {
      "cell_type": "code",
      "source": [
        "del_ngrams[:20]"
      ],
      "metadata": {
        "colab": {
          "base_uri": "https://localhost:8080/"
        },
        "id": "P0RBVganw8fH",
        "outputId": "2e9f92f1-a83a-42d0-da61-26ec17391a57"
      },
      "execution_count": 47,
      "outputs": [
        {
          "output_type": "execute_result",
          "data": {
            "text/plain": [
              "[('iâ', '\\x80\\x99', 'cross'),\n",
              " ('\\x80\\x99', 'cross', 'though'),\n",
              " ('cross', 'though', 'blast'),\n",
              " ('though', 'blast', 'harlequin'),\n",
              " ('blast', 'harlequin', 'fear'),\n",
              " ('harlequin', 'fear', 'fight'),\n",
              " ('fear', 'fight', 'devil'),\n",
              " ('fight', 'devil', 'persecutor'),\n",
              " ('devil', 'persecutor', 'presume'),\n",
              " ('persecutor', 'presume', 'known'),\n",
              " ('presume', 'known', 'depend'),\n",
              " ('known', 'depend', 'upon'),\n",
              " ('depend', 'upon', 'many'),\n",
              " ('upon', 'many', 'would'),\n",
              " ('many', 'would', 'happy'),\n",
              " ('would', 'happy', 'confine'),\n",
              " ('happy', 'confine', 'manner'),\n",
              " ('confine', 'manner', 'neither'),\n",
              " ('manner', 'neither', 'much'),\n",
              " ('neither', 'much', 'cause')]"
            ]
          },
          "metadata": {},
          "execution_count": 47
        }
      ]
    },
    {
      "cell_type": "code",
      "source": [
        "del_ngram_freqs = nltk.FreqDist(del_ngrams)\n"
      ],
      "metadata": {
        "id": "RG7cLjNmxSzK"
      },
      "execution_count": 48,
      "outputs": []
    },
    {
      "cell_type": "code",
      "source": [
        "for words, count in del_ngram_freqs.most_common(20):\n",
        "  print(count, \" \".join(list(words)))"
      ],
      "metadata": {
        "colab": {
          "base_uri": "https://localhost:8080/"
        },
        "id": "Cyq30QwTxj85",
        "outputId": "7743a514-4b9e-4753-d51a-93f45b7f9ecc"
      },
      "execution_count": 49,
      "outputs": [
        {
          "output_type": "stream",
          "name": "stdout",
          "text": [
            "10 â ¬ â\n",
            "10 ¬ â ¬\n",
            "3 opera - house\n",
            "3 upon miss beverley\n",
            "3 mr belfieldâ \n",
            "3 - morrow morning\n",
            "3 till - morrow\n",
            "2 french beads bristol\n",
            "2 beads bristol stones\n",
            "2 every possible argument\n",
            "2 fired first missed\n",
            "2 yes sir happiness\n",
            "2 sir happiness never\n",
            "2 happiness never honour\n",
            "2 never honour introduced\n",
            "2 morrow morning miss\n",
            "2 morning miss beverley\n",
            "2 miss beverley thus\n",
            "2 miss beverley let\n",
            "2 miss beverley mean\n"
          ]
        }
      ]
    },
    {
      "cell_type": "code",
      "source": [
        "! pip install htrc-feature-reader"
      ],
      "metadata": {
        "id": "XA-zIkf2T4lw",
        "colab": {
          "base_uri": "https://localhost:8080/"
        },
        "outputId": "af32dbc7-f67f-47cd-bc97-f84fb312746a"
      },
      "execution_count": 50,
      "outputs": [
        {
          "output_type": "stream",
          "name": "stdout",
          "text": [
            "Looking in indexes: https://pypi.org/simple, https://us-python.pkg.dev/colab-wheels/public/simple/\n",
            "Requirement already satisfied: htrc-feature-reader in /usr/local/lib/python3.10/dist-packages (2.0.7)\n",
            "Requirement already satisfied: six in /usr/local/lib/python3.10/dist-packages (from htrc-feature-reader) (1.16.0)\n",
            "Requirement already satisfied: pandas>=0.24 in /usr/local/lib/python3.10/dist-packages (from htrc-feature-reader) (2.0.2)\n",
            "Requirement already satisfied: requests in /usr/local/lib/python3.10/dist-packages (from htrc-feature-reader) (2.27.1)\n",
            "Requirement already satisfied: python-rapidjson in /usr/local/lib/python3.10/dist-packages (from htrc-feature-reader) (1.10)\n",
            "Requirement already satisfied: pymarc in /usr/local/lib/python3.10/dist-packages (from htrc-feature-reader) (5.1.0)\n",
            "Requirement already satisfied: python-dateutil>=2.8.2 in /usr/local/lib/python3.10/dist-packages (from pandas>=0.24->htrc-feature-reader) (2.8.2)\n",
            "Requirement already satisfied: pytz>=2020.1 in /usr/local/lib/python3.10/dist-packages (from pandas>=0.24->htrc-feature-reader) (2022.7.1)\n",
            "Requirement already satisfied: tzdata>=2022.1 in /usr/local/lib/python3.10/dist-packages (from pandas>=0.24->htrc-feature-reader) (2023.3)\n",
            "Requirement already satisfied: numpy>=1.21.0 in /usr/local/lib/python3.10/dist-packages (from pandas>=0.24->htrc-feature-reader) (1.24.3)\n",
            "Requirement already satisfied: urllib3<1.27,>=1.21.1 in /usr/local/lib/python3.10/dist-packages (from requests->htrc-feature-reader) (1.26.15)\n",
            "Requirement already satisfied: certifi>=2017.4.17 in /usr/local/lib/python3.10/dist-packages (from requests->htrc-feature-reader) (2022.12.7)\n",
            "Requirement already satisfied: charset-normalizer~=2.0.0 in /usr/local/lib/python3.10/dist-packages (from requests->htrc-feature-reader) (2.0.12)\n",
            "Requirement already satisfied: idna<4,>=2.5 in /usr/local/lib/python3.10/dist-packages (from requests->htrc-feature-reader) (3.4)\n"
          ]
        }
      ]
    },
    {
      "cell_type": "code",
      "source": [
        "from htrc_features import FeatureReader, Volume\n",
        "import pandas as pd"
      ],
      "metadata": {
        "id": "tisD-BRyV3br"
      },
      "execution_count": 51,
      "outputs": []
    },
    {
      "cell_type": "markdown",
      "source": [
        "###POS NLTK"
      ],
      "metadata": {
        "id": "1p3niPT7ZNg9"
      }
    },
    {
      "cell_type": "code",
      "source": [
        "nltk.download(\"tagsets\")"
      ],
      "metadata": {
        "colab": {
          "base_uri": "https://localhost:8080/"
        },
        "id": "EfJHrQ-8Z0tq",
        "outputId": "13d9e3dd-b615-4a28-caf8-25ca49d1528e"
      },
      "execution_count": 52,
      "outputs": [
        {
          "output_type": "stream",
          "name": "stderr",
          "text": [
            "[nltk_data] Downloading package tagsets to /root/nltk_data...\n",
            "[nltk_data]   Package tagsets is already up-to-date!\n"
          ]
        },
        {
          "output_type": "execute_result",
          "data": {
            "text/plain": [
              "True"
            ]
          },
          "metadata": {},
          "execution_count": 52
        }
      ]
    },
    {
      "cell_type": "code",
      "source": [
        "nltk.help.upenn_tagset()"
      ],
      "metadata": {
        "colab": {
          "base_uri": "https://localhost:8080/"
        },
        "id": "-o1aO6s7ZP_7",
        "outputId": "f72805e6-9234-4549-9b8f-32e009b8aded"
      },
      "execution_count": 53,
      "outputs": [
        {
          "output_type": "stream",
          "name": "stdout",
          "text": [
            "$: dollar\n",
            "    $ -$ --$ A$ C$ HK$ M$ NZ$ S$ U.S.$ US$\n",
            "'': closing quotation mark\n",
            "    ' ''\n",
            "(: opening parenthesis\n",
            "    ( [ {\n",
            "): closing parenthesis\n",
            "    ) ] }\n",
            ",: comma\n",
            "    ,\n",
            "--: dash\n",
            "    --\n",
            ".: sentence terminator\n",
            "    . ! ?\n",
            ":: colon or ellipsis\n",
            "    : ; ...\n",
            "CC: conjunction, coordinating\n",
            "    & 'n and both but either et for less minus neither nor or plus so\n",
            "    therefore times v. versus vs. whether yet\n",
            "CD: numeral, cardinal\n",
            "    mid-1890 nine-thirty forty-two one-tenth ten million 0.5 one forty-\n",
            "    seven 1987 twenty '79 zero two 78-degrees eighty-four IX '60s .025\n",
            "    fifteen 271,124 dozen quintillion DM2,000 ...\n",
            "DT: determiner\n",
            "    all an another any both del each either every half la many much nary\n",
            "    neither no some such that the them these this those\n",
            "EX: existential there\n",
            "    there\n",
            "FW: foreign word\n",
            "    gemeinschaft hund ich jeux habeas Haementeria Herr K'ang-si vous\n",
            "    lutihaw alai je jour objets salutaris fille quibusdam pas trop Monte\n",
            "    terram fiche oui corporis ...\n",
            "IN: preposition or conjunction, subordinating\n",
            "    astride among uppon whether out inside pro despite on by throughout\n",
            "    below within for towards near behind atop around if like until below\n",
            "    next into if beside ...\n",
            "JJ: adjective or numeral, ordinal\n",
            "    third ill-mannered pre-war regrettable oiled calamitous first separable\n",
            "    ectoplasmic battery-powered participatory fourth still-to-be-named\n",
            "    multilingual multi-disciplinary ...\n",
            "JJR: adjective, comparative\n",
            "    bleaker braver breezier briefer brighter brisker broader bumper busier\n",
            "    calmer cheaper choosier cleaner clearer closer colder commoner costlier\n",
            "    cozier creamier crunchier cuter ...\n",
            "JJS: adjective, superlative\n",
            "    calmest cheapest choicest classiest cleanest clearest closest commonest\n",
            "    corniest costliest crassest creepiest crudest cutest darkest deadliest\n",
            "    dearest deepest densest dinkiest ...\n",
            "LS: list item marker\n",
            "    A A. B B. C C. D E F First G H I J K One SP-44001 SP-44002 SP-44005\n",
            "    SP-44007 Second Third Three Two * a b c d first five four one six three\n",
            "    two\n",
            "MD: modal auxiliary\n",
            "    can cannot could couldn't dare may might must need ought shall should\n",
            "    shouldn't will would\n",
            "NN: noun, common, singular or mass\n",
            "    common-carrier cabbage knuckle-duster Casino afghan shed thermostat\n",
            "    investment slide humour falloff slick wind hyena override subhumanity\n",
            "    machinist ...\n",
            "NNP: noun, proper, singular\n",
            "    Motown Venneboerger Czestochwa Ranzer Conchita Trumplane Christos\n",
            "    Oceanside Escobar Kreisler Sawyer Cougar Yvette Ervin ODI Darryl CTCA\n",
            "    Shannon A.K.C. Meltex Liverpool ...\n",
            "NNPS: noun, proper, plural\n",
            "    Americans Americas Amharas Amityvilles Amusements Anarcho-Syndicalists\n",
            "    Andalusians Andes Andruses Angels Animals Anthony Antilles Antiques\n",
            "    Apache Apaches Apocrypha ...\n",
            "NNS: noun, common, plural\n",
            "    undergraduates scotches bric-a-brac products bodyguards facets coasts\n",
            "    divestitures storehouses designs clubs fragrances averages\n",
            "    subjectivists apprehensions muses factory-jobs ...\n",
            "PDT: pre-determiner\n",
            "    all both half many quite such sure this\n",
            "POS: genitive marker\n",
            "    ' 's\n",
            "PRP: pronoun, personal\n",
            "    hers herself him himself hisself it itself me myself one oneself ours\n",
            "    ourselves ownself self she thee theirs them themselves they thou thy us\n",
            "PRP$: pronoun, possessive\n",
            "    her his mine my our ours their thy your\n",
            "RB: adverb\n",
            "    occasionally unabatingly maddeningly adventurously professedly\n",
            "    stirringly prominently technologically magisterially predominately\n",
            "    swiftly fiscally pitilessly ...\n",
            "RBR: adverb, comparative\n",
            "    further gloomier grander graver greater grimmer harder harsher\n",
            "    healthier heavier higher however larger later leaner lengthier less-\n",
            "    perfectly lesser lonelier longer louder lower more ...\n",
            "RBS: adverb, superlative\n",
            "    best biggest bluntest earliest farthest first furthest hardest\n",
            "    heartiest highest largest least less most nearest second tightest worst\n",
            "RP: particle\n",
            "    aboard about across along apart around aside at away back before behind\n",
            "    by crop down ever fast for forth from go high i.e. in into just later\n",
            "    low more off on open out over per pie raising start teeth that through\n",
            "    under unto up up-pp upon whole with you\n",
            "SYM: symbol\n",
            "    % & ' '' ''. ) ). * + ,. < = > @ A[fj] U.S U.S.S.R * ** ***\n",
            "TO: \"to\" as preposition or infinitive marker\n",
            "    to\n",
            "UH: interjection\n",
            "    Goodbye Goody Gosh Wow Jeepers Jee-sus Hubba Hey Kee-reist Oops amen\n",
            "    huh howdy uh dammit whammo shucks heck anyways whodunnit honey golly\n",
            "    man baby diddle hush sonuvabitch ...\n",
            "VB: verb, base form\n",
            "    ask assemble assess assign assume atone attention avoid bake balkanize\n",
            "    bank begin behold believe bend benefit bevel beware bless boil bomb\n",
            "    boost brace break bring broil brush build ...\n",
            "VBD: verb, past tense\n",
            "    dipped pleaded swiped regummed soaked tidied convened halted registered\n",
            "    cushioned exacted snubbed strode aimed adopted belied figgered\n",
            "    speculated wore appreciated contemplated ...\n",
            "VBG: verb, present participle or gerund\n",
            "    telegraphing stirring focusing angering judging stalling lactating\n",
            "    hankerin' alleging veering capping approaching traveling besieging\n",
            "    encrypting interrupting erasing wincing ...\n",
            "VBN: verb, past participle\n",
            "    multihulled dilapidated aerosolized chaired languished panelized used\n",
            "    experimented flourished imitated reunifed factored condensed sheared\n",
            "    unsettled primed dubbed desired ...\n",
            "VBP: verb, present tense, not 3rd person singular\n",
            "    predominate wrap resort sue twist spill cure lengthen brush terminate\n",
            "    appear tend stray glisten obtain comprise detest tease attract\n",
            "    emphasize mold postpone sever return wag ...\n",
            "VBZ: verb, present tense, 3rd person singular\n",
            "    bases reconstructs marks mixes displeases seals carps weaves snatches\n",
            "    slumps stretches authorizes smolders pictures emerges stockpiles\n",
            "    seduces fizzes uses bolsters slaps speaks pleads ...\n",
            "WDT: WH-determiner\n",
            "    that what whatever which whichever\n",
            "WP: WH-pronoun\n",
            "    that what whatever whatsoever which who whom whosoever\n",
            "WP$: WH-pronoun, possessive\n",
            "    whose\n",
            "WRB: Wh-adverb\n",
            "    how however whence whenever where whereby whereever wherein whereof why\n",
            "``: opening quotation mark\n",
            "    ` ``\n"
          ]
        }
      ]
    },
    {
      "cell_type": "code",
      "source": [
        "nltk.help.brown_tagset()"
      ],
      "metadata": {
        "id": "pGDKCtu3aGkB",
        "colab": {
          "base_uri": "https://localhost:8080/"
        },
        "outputId": "653b28c0-6e51-4792-9ea6-46e2828b65d3"
      },
      "execution_count": 54,
      "outputs": [
        {
          "output_type": "stream",
          "name": "stdout",
          "text": [
            "(: opening parenthesis\n",
            "    (\n",
            "): closing parenthesis\n",
            "    )\n",
            "*: negator\n",
            "    not n't\n",
            ",: comma\n",
            "    ,\n",
            "--: dash\n",
            "    --\n",
            ".: sentence terminator\n",
            "    . ? ; ! :\n",
            ":: colon\n",
            "    :\n",
            "ABL: determiner/pronoun, pre-qualifier\n",
            "    quite such rather\n",
            "ABN: determiner/pronoun, pre-quantifier\n",
            "    all half many nary\n",
            "ABX: determiner/pronoun, double conjunction or pre-quantifier\n",
            "    both\n",
            "AP: determiner/pronoun, post-determiner\n",
            "    many other next more last former little several enough most least only\n",
            "    very few fewer past same Last latter less single plenty 'nough lesser\n",
            "    certain various manye next-to-last particular final previous present\n",
            "    nuf\n",
            "AP$: determiner/pronoun, post-determiner, genitive\n",
            "    other's\n",
            "AP+AP: determiner/pronoun, post-determiner, hyphenated pair\n",
            "    many-much\n",
            "AT: article\n",
            "    the an no a every th' ever' ye\n",
            "BE: verb 'to be', infinitive or imperative\n",
            "    be\n",
            "BED: verb 'to be', past tense, 2nd person singular or all persons plural\n",
            "    were\n",
            "BED*: verb 'to be', past tense, 2nd person singular or all persons plural, negated\n",
            "    weren't\n",
            "BEDZ: verb 'to be', past tense, 1st and 3rd person singular\n",
            "    was\n",
            "BEDZ*: verb 'to be', past tense, 1st and 3rd person singular, negated\n",
            "    wasn't\n",
            "BEG: verb 'to be', present participle or gerund\n",
            "    being\n",
            "BEM: verb 'to be', present tense, 1st person singular\n",
            "    am\n",
            "BEM*: verb 'to be', present tense, 1st person singular, negated\n",
            "    ain't\n",
            "BEN: verb 'to be', past participle\n",
            "    been\n",
            "BER: verb 'to be', present tense, 2nd person singular or all persons plural\n",
            "    are art\n",
            "BER*: verb 'to be', present tense, 2nd person singular or all persons plural, negated\n",
            "    aren't ain't\n",
            "BEZ: verb 'to be', present tense, 3rd person singular\n",
            "    is\n",
            "BEZ*: verb 'to be', present tense, 3rd person singular, negated\n",
            "    isn't ain't\n",
            "CC: conjunction, coordinating\n",
            "    and or but plus & either neither nor yet 'n' and/or minus an'\n",
            "CD: numeral, cardinal\n",
            "    two one 1 four 2 1913 71 74 637 1937 8 five three million 87-31 29-5\n",
            "    seven 1,119 fifty-three 7.5 billion hundred 125,000 1,700 60 100 six\n",
            "    ...\n",
            "CD$: numeral, cardinal, genitive\n",
            "    1960's 1961's .404's\n",
            "CS: conjunction, subordinating\n",
            "    that as after whether before while like because if since for than altho\n",
            "    until so unless though providing once lest s'posin' till whereas\n",
            "    whereupon supposing tho' albeit then so's 'fore\n",
            "DO: verb 'to do', uninflected present tense, infinitive or imperative\n",
            "    do dost\n",
            "DO*: verb 'to do', uninflected present tense or imperative, negated\n",
            "    don't\n",
            "DO+PPSS: verb 'to do', past or present tense + pronoun, personal, nominative, not 3rd person singular\n",
            "    d'you\n",
            "DOD: verb 'to do', past tense\n",
            "    did done\n",
            "DOD*: verb 'to do', past tense, negated\n",
            "    didn't\n",
            "DOZ: verb 'to do', present tense, 3rd person singular\n",
            "    does\n",
            "DOZ*: verb 'to do', present tense, 3rd person singular, negated\n",
            "    doesn't don't\n",
            "DT: determiner/pronoun, singular\n",
            "    this each another that 'nother\n",
            "DT$: determiner/pronoun, singular, genitive\n",
            "    another's\n",
            "DT+BEZ: determiner/pronoun + verb 'to be', present tense, 3rd person singular\n",
            "    that's\n",
            "DT+MD: determiner/pronoun + modal auxillary\n",
            "    that'll this'll\n",
            "DTI: determiner/pronoun, singular or plural\n",
            "    any some\n",
            "DTS: determiner/pronoun, plural\n",
            "    these those them\n",
            "DTS+BEZ: pronoun, plural + verb 'to be', present tense, 3rd person singular\n",
            "    them's\n",
            "DTX: determiner, pronoun or double conjunction\n",
            "    neither either one\n",
            "EX: existential there\n",
            "    there\n",
            "EX+BEZ: existential there + verb 'to be', present tense, 3rd person singular\n",
            "    there's\n",
            "EX+HVD: existential there + verb 'to have', past tense\n",
            "    there'd\n",
            "EX+HVZ: existential there + verb 'to have', present tense, 3rd person singular\n",
            "    there's\n",
            "EX+MD: existential there + modal auxillary\n",
            "    there'll there'd\n",
            "FW-*: foreign word: negator\n",
            "    pas non ne\n",
            "FW-AT: foreign word: article\n",
            "    la le el un die der ein keine eine das las les Il\n",
            "FW-AT+NN: foreign word: article + noun, singular, common\n",
            "    l'orchestre l'identite l'arcade l'ange l'assistance l'activite\n",
            "    L'Universite l'independance L'Union L'Unita l'osservatore\n",
            "FW-AT+NP: foreign word: article + noun, singular, proper\n",
            "    L'Astree L'Imperiale\n",
            "FW-BE: foreign word: verb 'to be', infinitive or imperative\n",
            "    sit\n",
            "FW-BER: foreign word: verb 'to be', present tense, 2nd person singular or all persons plural\n",
            "    sind sunt etes\n",
            "FW-BEZ: foreign word: verb 'to be', present tense, 3rd person singular\n",
            "    ist est\n",
            "FW-CC: foreign word: conjunction, coordinating\n",
            "    et ma mais und aber och nec y\n",
            "FW-CD: foreign word: numeral, cardinal\n",
            "    une cinq deux sieben unam zwei\n",
            "FW-CS: foreign word: conjunction, subordinating\n",
            "    bevor quam ma\n",
            "FW-DT: foreign word: determiner/pronoun, singular\n",
            "    hoc\n",
            "FW-DT+BEZ: foreign word: determiner + verb 'to be', present tense, 3rd person singular\n",
            "    c'est\n",
            "FW-DTS: foreign word: determiner/pronoun, plural\n",
            "    haec\n",
            "FW-HV: foreign word: verb 'to have', present tense, not 3rd person singular\n",
            "    habe\n",
            "FW-IN: foreign word: preposition\n",
            "    ad de en a par con dans ex von auf super post sine sur sub avec per\n",
            "    inter sans pour pendant in di\n",
            "FW-IN+AT: foreign word: preposition + article\n",
            "    della des du aux zur d'un del dell'\n",
            "FW-IN+NN: foreign word: preposition + noun, singular, common\n",
            "    d'etat d'hotel d'argent d'identite d'art\n",
            "FW-IN+NP: foreign word: preposition + noun, singular, proper\n",
            "    d'Yquem d'Eiffel\n",
            "FW-JJ: foreign word: adjective\n",
            "    avant Espagnol sinfonica Siciliana Philharmonique grand publique haute\n",
            "    noire bouffe Douce meme humaine bel serieuses royaux anticus presto\n",
            "    Sovietskaya Bayerische comique schwarzen ...\n",
            "FW-JJR: foreign word: adjective, comparative\n",
            "    fortiori\n",
            "FW-JJT: foreign word: adjective, superlative\n",
            "    optimo\n",
            "FW-NN: foreign word: noun, singular, common\n",
            "    ballet esprit ersatz mano chatte goutte sang Fledermaus oud def kolkhoz\n",
            "    roi troika canto boite blutwurst carne muzyka bonheur monde piece force\n",
            "    ...\n",
            "FW-NN$: foreign word: noun, singular, common, genitive\n",
            "    corporis intellectus arte's dei aeternitatis senioritatis curiae\n",
            "    patronne's chambre's\n",
            "FW-NNS: foreign word: noun, plural, common\n",
            "    al culpas vopos boites haflis kolkhozes augen tyrannis alpha-beta-\n",
            "    gammas metis banditos rata phis negociants crus Einsatzkommandos\n",
            "    kamikaze wohaws sabinas zorrillas palazzi engages coureurs corroborees\n",
            "    yori Ubermenschen ...\n",
            "FW-NP: foreign word: noun, singular, proper\n",
            "    Karshilama Dieu Rundfunk Afrique Espanol Afrika Spagna Gott Carthago\n",
            "    deus\n",
            "FW-NPS: foreign word: noun, plural, proper\n",
            "    Svenskarna Atlantes Dieux\n",
            "FW-NR: foreign word: noun, singular, adverbial\n",
            "    heute morgen aujourd'hui hoy\n",
            "FW-OD: foreign word: numeral, ordinal\n",
            "    18e 17e quintus\n",
            "FW-PN: foreign word: pronoun, nominal\n",
            "    hoc\n",
            "FW-PP$: foreign word: determiner, possessive\n",
            "    mea mon deras vos\n",
            "FW-PPL: foreign word: pronoun, singular, reflexive\n",
            "    se\n",
            "FW-PPL+VBZ: foreign word: pronoun, singular, reflexive + verb, present tense, 3rd person singular\n",
            "    s'excuse s'accuse\n",
            "FW-PPO: pronoun, personal, accusative\n",
            "    lui me moi mi\n",
            "FW-PPO+IN: foreign word: pronoun, personal, accusative + preposition\n",
            "    mecum tecum\n",
            "FW-PPS: foreign word: pronoun, personal, nominative, 3rd person singular\n",
            "    il\n",
            "FW-PPSS: foreign word: pronoun, personal, nominative, not 3rd person singular\n",
            "    ich vous sie je\n",
            "FW-PPSS+HV: foreign word: pronoun, personal, nominative, not 3rd person singular + verb 'to have', present tense, not 3rd person singular\n",
            "    j'ai\n",
            "FW-QL: foreign word: qualifier\n",
            "    minus\n",
            "FW-RB: foreign word: adverb\n",
            "    bas assai deja um wiederum cito velociter vielleicht simpliciter non zu\n",
            "    domi nuper sic forsan olim oui semper tout despues hors\n",
            "FW-RB+CC: foreign word: adverb + conjunction, coordinating\n",
            "    forisque\n",
            "FW-TO+VB: foreign word: infinitival to + verb, infinitive\n",
            "    d'entretenir\n",
            "FW-UH: foreign word: interjection\n",
            "    sayonara bien adieu arigato bonjour adios bueno tchalo ciao o\n",
            "FW-VB: foreign word: verb, present tense, not 3rd person singular, imperative or infinitive\n",
            "    nolo contendere vive fermate faciunt esse vade noli tangere dites duces\n",
            "    meminisse iuvabit gosaimasu voulez habla ksu'u'peli'afo lacheln miuchi\n",
            "    say allons strafe portant\n",
            "FW-VBD: foreign word: verb, past tense\n",
            "    stabat peccavi audivi\n",
            "FW-VBG: foreign word: verb, present participle or gerund\n",
            "    nolens volens appellant seq. obliterans servanda dicendi delenda\n",
            "FW-VBN: foreign word: verb, past participle\n",
            "    vue verstrichen rasa verboten engages\n",
            "FW-VBZ: foreign word: verb, present tense, 3rd person singular\n",
            "    gouverne sinkt sigue diapiace\n",
            "FW-WDT: foreign word: WH-determiner\n",
            "    quo qua quod que quok\n",
            "FW-WPO: foreign word: WH-pronoun, accusative\n",
            "    quibusdam\n",
            "FW-WPS: foreign word: WH-pronoun, nominative\n",
            "    qui\n",
            "HV: verb 'to have', uninflected present tense, infinitive or imperative\n",
            "    have hast\n",
            "HV*: verb 'to have', uninflected present tense or imperative, negated\n",
            "    haven't ain't\n",
            "HV+TO: verb 'to have', uninflected present tense + infinitival to\n",
            "    hafta\n",
            "HVD: verb 'to have', past tense\n",
            "    had\n",
            "HVD*: verb 'to have', past tense, negated\n",
            "    hadn't\n",
            "HVG: verb 'to have', present participle or gerund\n",
            "    having\n",
            "HVN: verb 'to have', past participle\n",
            "    had\n",
            "HVZ: verb 'to have', present tense, 3rd person singular\n",
            "    has hath\n",
            "HVZ*: verb 'to have', present tense, 3rd person singular, negated\n",
            "    hasn't ain't\n",
            "IN: preposition\n",
            "    of in for by considering to on among at through with under into\n",
            "    regarding than since despite according per before toward against as\n",
            "    after during including between without except upon out over ...\n",
            "IN+IN: preposition, hyphenated pair\n",
            "    f'ovuh\n",
            "IN+PPO: preposition + pronoun, personal, accusative\n",
            "    t'hi-im\n",
            "JJ: adjective\n",
            "    ecent over-all possible hard-fought favorable hard meager fit such\n",
            "    widespread outmoded inadequate ambiguous grand clerical effective\n",
            "    orderly federal foster general proportionate ...\n",
            "JJ$: adjective, genitive\n",
            "    Great's\n",
            "JJ+JJ: adjective, hyphenated pair\n",
            "    big-large long-far\n",
            "JJR: adjective, comparative\n",
            "    greater older further earlier later freer franker wider better deeper\n",
            "    firmer tougher faster higher bigger worse younger lighter nicer slower\n",
            "    happier frothier Greater newer Elder ...\n",
            "JJR+CS: adjective + conjunction, coordinating\n",
            "    lighter'n\n",
            "JJS: adjective, semantically superlative\n",
            "    top chief principal northernmost master key head main tops utmost\n",
            "    innermost foremost uppermost paramount topmost\n",
            "JJT: adjective, superlative\n",
            "    best largest coolest calmest latest greatest earliest simplest\n",
            "    strongest newest fiercest unhappiest worst youngest worthiest fastest\n",
            "    hottest fittest lowest finest smallest staunchest ...\n",
            "MD: modal auxillary\n",
            "    should may might will would must can could shall ought need wilt\n",
            "MD*: modal auxillary, negated\n",
            "    cannot couldn't wouldn't can't won't shouldn't shan't mustn't musn't\n",
            "MD+HV: modal auxillary + verb 'to have', uninflected form\n",
            "    shouldda musta coulda must've woulda could've\n",
            "MD+PPSS: modal auxillary + pronoun, personal, nominative, not 3rd person singular\n",
            "    willya\n",
            "MD+TO: modal auxillary + infinitival to\n",
            "    oughta\n",
            "NN: noun, singular, common\n",
            "    failure burden court fire appointment awarding compensation Mayor\n",
            "    interim committee fact effect airport management surveillance jail\n",
            "    doctor intern extern night weekend duty legislation Tax Office ...\n",
            "NN$: noun, singular, common, genitive\n",
            "    season's world's player's night's chapter's golf's football's\n",
            "    baseball's club's U.'s coach's bride's bridegroom's board's county's\n",
            "    firm's company's superintendent's mob's Navy's ...\n",
            "NN+BEZ: noun, singular, common + verb 'to be', present tense, 3rd person singular\n",
            "    water's camera's sky's kid's Pa's heat's throat's father's money's\n",
            "    undersecretary's granite's level's wife's fat's Knife's fire's name's\n",
            "    hell's leg's sun's roulette's cane's guy's kind's baseball's ...\n",
            "NN+HVD: noun, singular, common + verb 'to have', past tense\n",
            "    Pa'd\n",
            "NN+HVZ: noun, singular, common + verb 'to have', present tense, 3rd person singular\n",
            "    guy's Knife's boat's summer's rain's company's\n",
            "NN+IN: noun, singular, common + preposition\n",
            "    buncha\n",
            "NN+MD: noun, singular, common + modal auxillary\n",
            "    cowhand'd sun'll\n",
            "NN+NN: noun, singular, common, hyphenated pair\n",
            "    stomach-belly\n",
            "NNS: noun, plural, common\n",
            "    irregularities presentments thanks reports voters laws legislators\n",
            "    years areas adjustments chambers $100 bonds courts sales details raises\n",
            "    sessions members congressmen votes polls calls ...\n",
            "NNS$: noun, plural, common, genitive\n",
            "    taxpayers' children's members' States' women's cutters' motorists'\n",
            "    steelmakers' hours' Nations' lawyers' prisoners' architects' tourists'\n",
            "    Employers' secretaries' Rogues' ...\n",
            "NNS+MD: noun, plural, common + modal auxillary\n",
            "    duds'd oystchers'll\n",
            "NP: noun, singular, proper\n",
            "    Fulton Atlanta September-October Durwood Pye Ivan Allen Jr. Jan.\n",
            "    Alpharetta Grady William B. Hartsfield Pearl Williams Aug. Berry J. M.\n",
            "    Cheshire Griffin Opelika Ala. E. Pelham Snodgrass ...\n",
            "NP$: noun, singular, proper, genitive\n",
            "    Green's Landis' Smith's Carreon's Allison's Boston's Spahn's Willie's\n",
            "    Mickey's Milwaukee's Mays' Howsam's Mantle's Shaw's Wagner's Rickey's\n",
            "    Shea's Palmer's Arnold's Broglio's ...\n",
            "NP+BEZ: noun, singular, proper + verb 'to be', present tense, 3rd person singular\n",
            "    W.'s Ike's Mack's Jack's Kate's Katharine's Black's Arthur's Seaton's\n",
            "    Buckhorn's Breed's Penny's Rob's Kitty's Blackwell's Myra's Wally's\n",
            "    Lucille's Springfield's Arlene's\n",
            "NP+HVZ: noun, singular, proper + verb 'to have', present tense, 3rd person singular\n",
            "    Bill's Guardino's Celie's Skolman's Crosson's Tim's Wally's\n",
            "NP+MD: noun, singular, proper + modal auxillary\n",
            "    Gyp'll John'll\n",
            "NPS: noun, plural, proper\n",
            "    Chases Aderholds Chapelles Armisteads Lockies Carbones French Marskmen\n",
            "    Toppers Franciscans Romans Cadillacs Masons Blacks Catholics British\n",
            "    Dixiecrats Mississippians Congresses ...\n",
            "NPS$: noun, plural, proper, genitive\n",
            "    Republicans' Orioles' Birds' Yanks' Redbirds' Bucs' Yankees' Stevenses'\n",
            "    Geraghtys' Burkes' Wackers' Achaeans' Dresbachs' Russians' Democrats'\n",
            "    Gershwins' Adventists' Negroes' Catholics' ...\n",
            "NR: noun, singular, adverbial\n",
            "    Friday home Wednesday Tuesday Monday Sunday Thursday yesterday tomorrow\n",
            "    tonight West East Saturday west left east downtown north northeast\n",
            "    southeast northwest North South right ...\n",
            "NR$: noun, singular, adverbial, genitive\n",
            "    Saturday's Monday's yesterday's tonight's tomorrow's Sunday's\n",
            "    Wednesday's Friday's today's Tuesday's West's Today's South's\n",
            "NR+MD: noun, singular, adverbial + modal auxillary\n",
            "    today'll\n",
            "NRS: noun, plural, adverbial\n",
            "    Sundays Mondays Saturdays Wednesdays Souths Fridays\n",
            "OD: numeral, ordinal\n",
            "    first 13th third nineteenth 2d 61st second sixth eighth ninth twenty-\n",
            "    first eleventh 50th eighteenth- Thirty-ninth 72nd 1/20th twentieth\n",
            "    mid-19th thousandth 350th sixteenth 701st ...\n",
            "PN: pronoun, nominal\n",
            "    none something everything one anyone nothing nobody everybody everyone\n",
            "    anybody anything someone no-one nothin\n",
            "PN$: pronoun, nominal, genitive\n",
            "    one's someone's anybody's nobody's everybody's anyone's everyone's\n",
            "PN+BEZ: pronoun, nominal + verb 'to be', present tense, 3rd person singular\n",
            "    nothing's everything's somebody's nobody's someone's\n",
            "PN+HVD: pronoun, nominal + verb 'to have', past tense\n",
            "    nobody'd\n",
            "PN+HVZ: pronoun, nominal + verb 'to have', present tense, 3rd person singular\n",
            "    nobody's somebody's one's\n",
            "PN+MD: pronoun, nominal + modal auxillary\n",
            "    someone'll somebody'll anybody'd\n",
            "PP$: determiner, possessive\n",
            "    our its his their my your her out thy mine thine\n",
            "PP$$: pronoun, possessive\n",
            "    ours mine his hers theirs yours\n",
            "PPL: pronoun, singular, reflexive\n",
            "    itself himself myself yourself herself oneself ownself\n",
            "PPLS: pronoun, plural, reflexive\n",
            "    themselves ourselves yourselves\n",
            "PPO: pronoun, personal, accusative\n",
            "    them it him me us you 'em her thee we'uns\n",
            "PPS: pronoun, personal, nominative, 3rd person singular\n",
            "    it he she thee\n",
            "PPS+BEZ: pronoun, personal, nominative, 3rd person singular + verb 'to be', present tense, 3rd person singular\n",
            "    it's he's she's\n",
            "PPS+HVD: pronoun, personal, nominative, 3rd person singular + verb 'to have', past tense\n",
            "    she'd he'd it'd\n",
            "PPS+HVZ: pronoun, personal, nominative, 3rd person singular + verb 'to have', present tense, 3rd person singular\n",
            "    it's he's she's\n",
            "PPS+MD: pronoun, personal, nominative, 3rd person singular + modal auxillary\n",
            "    he'll she'll it'll he'd it'd she'd\n",
            "PPSS: pronoun, personal, nominative, not 3rd person singular\n",
            "    they we I you ye thou you'uns\n",
            "PPSS+BEM: pronoun, personal, nominative, not 3rd person singular + verb 'to be', present tense, 1st person singular\n",
            "    I'm Ahm\n",
            "PPSS+BER: pronoun, personal, nominative, not 3rd person singular + verb 'to be', present tense, 2nd person singular or all persons plural\n",
            "    we're you're they're\n",
            "PPSS+BEZ: pronoun, personal, nominative, not 3rd person singular + verb 'to be', present tense, 3rd person singular\n",
            "    you's\n",
            "PPSS+BEZ*: pronoun, personal, nominative, not 3rd person singular + verb 'to be', present tense, 3rd person singular, negated\n",
            "    'tain't\n",
            "PPSS+HV: pronoun, personal, nominative, not 3rd person singular + verb 'to have', uninflected present tense\n",
            "    I've we've they've you've\n",
            "PPSS+HVD: pronoun, personal, nominative, not 3rd person singular + verb 'to have', past tense\n",
            "    I'd you'd we'd they'd\n",
            "PPSS+MD: pronoun, personal, nominative, not 3rd person singular + modal auxillary\n",
            "    you'll we'll I'll we'd I'd they'll they'd you'd\n",
            "PPSS+VB: pronoun, personal, nominative, not 3rd person singular + verb 'to verb', uninflected present tense\n",
            "    y'know\n",
            "QL: qualifier, pre\n",
            "    well less very most so real as highly fundamentally even how much\n",
            "    remarkably somewhat more completely too thus ill deeply little overly\n",
            "    halfway almost impossibly far severly such ...\n",
            "QLP: qualifier, post\n",
            "    indeed enough still 'nuff\n",
            "RB: adverb\n",
            "    only often generally also nevertheless upon together back newly no\n",
            "    likely meanwhile near then heavily there apparently yet outright fully\n",
            "    aside consistently specifically formally ever just ...\n",
            "RB$: adverb, genitive\n",
            "    else's\n",
            "RB+BEZ: adverb + verb 'to be', present tense, 3rd person singular\n",
            "    here's there's\n",
            "RB+CS: adverb + conjunction, coordinating\n",
            "    well's soon's\n",
            "RBR: adverb, comparative\n",
            "    further earlier better later higher tougher more harder longer sooner\n",
            "    less faster easier louder farther oftener nearer cheaper slower tighter\n",
            "    lower worse heavier quicker ...\n",
            "RBR+CS: adverb, comparative + conjunction, coordinating\n",
            "    more'n\n",
            "RBT: adverb, superlative\n",
            "    most best highest uppermost nearest brightest hardest fastest deepest\n",
            "    farthest loudest ...\n",
            "RN: adverb, nominal\n",
            "    here afar then\n",
            "RP: adverb, particle\n",
            "    up out off down over on in about through across after\n",
            "RP+IN: adverb, particle + preposition\n",
            "    out'n outta\n",
            "TO: infinitival to\n",
            "    to t'\n",
            "TO+VB: infinitival to + verb, infinitive\n",
            "    t'jawn t'lah\n",
            "UH: interjection\n",
            "    Hurrah bang whee hmpf ah goodbye oops oh-the-pain-of-it ha crunch say\n",
            "    oh why see well hello lo alas tarantara rum-tum-tum gosh hell keerist\n",
            "    Jesus Keeeerist boy c'mon 'mon goddamn bah hoo-pig damn ...\n",
            "VB: verb, base: uninflected present, imperative or infinitive\n",
            "    investigate find act follow inure achieve reduce take remedy re-set\n",
            "    distribute realize disable feel receive continue place protect\n",
            "    eliminate elaborate work permit run enter force ...\n",
            "VB+AT: verb, base: uninflected present or infinitive + article\n",
            "    wanna\n",
            "VB+IN: verb, base: uninflected present, imperative or infinitive + preposition\n",
            "    lookit\n",
            "VB+JJ: verb, base: uninflected present, imperative or infinitive + adjective\n",
            "    die-dead\n",
            "VB+PPO: verb, uninflected present tense + pronoun, personal, accusative\n",
            "    let's lemme gimme\n",
            "VB+RP: verb, imperative + adverbial particle\n",
            "    g'ahn c'mon\n",
            "VB+TO: verb, base: uninflected present, imperative or infinitive + infinitival to\n",
            "    wanta wanna\n",
            "VB+VB: verb, base: uninflected present, imperative or infinitive; hypenated pair\n",
            "    say-speak\n",
            "VBD: verb, past tense\n",
            "    said produced took recommended commented urged found added praised\n",
            "    charged listed became announced brought attended wanted voted defeated\n",
            "    received got stood shot scheduled feared promised made ...\n",
            "VBG: verb, present participle or gerund\n",
            "    modernizing improving purchasing Purchasing lacking enabling pricing\n",
            "    keeping getting picking entering voting warning making strengthening\n",
            "    setting neighboring attending participating moving ...\n",
            "VBG+TO: verb, present participle + infinitival to\n",
            "    gonna\n",
            "VBN: verb, past participle\n",
            "    conducted charged won received studied revised operated accepted\n",
            "    combined experienced recommended effected granted seen protected\n",
            "    adopted retarded notarized selected composed gotten printed ...\n",
            "VBN+TO: verb, past participle + infinitival to\n",
            "    gotta\n",
            "VBZ: verb, present tense, 3rd person singular\n",
            "    deserves believes receives takes goes expires says opposes starts\n",
            "    permits expects thinks faces votes teaches holds calls fears spends\n",
            "    collects backs eliminates sets flies gives seeks reads ...\n",
            "WDT: WH-determiner\n",
            "    which what whatever whichever whichever-the-hell\n",
            "WDT+BER: WH-determiner + verb 'to be', present tense, 2nd person singular or all persons plural\n",
            "    what're\n",
            "WDT+BER+PP: WH-determiner + verb 'to be', present, 2nd person singular or all persons plural + pronoun, personal, nominative, not 3rd person singular\n",
            "    whaddya\n",
            "WDT+BEZ: WH-determiner + verb 'to be', present tense, 3rd person singular\n",
            "    what's\n",
            "WDT+DO+PPS: WH-determiner + verb 'to do', uninflected present tense + pronoun, personal, nominative, not 3rd person singular\n",
            "    whaddya\n",
            "WDT+DOD: WH-determiner + verb 'to do', past tense\n",
            "    what'd\n",
            "WDT+HVZ: WH-determiner + verb 'to have', present tense, 3rd person singular\n",
            "    what's\n",
            "WP$: WH-pronoun, genitive\n",
            "    whose whosever\n",
            "WPO: WH-pronoun, accusative\n",
            "    whom that who\n",
            "WPS: WH-pronoun, nominative\n",
            "    that who whoever whosoever what whatsoever\n",
            "WPS+BEZ: WH-pronoun, nominative + verb 'to be', present, 3rd person singular\n",
            "    that's who's\n",
            "WPS+HVD: WH-pronoun, nominative + verb 'to have', past tense\n",
            "    who'd\n",
            "WPS+HVZ: WH-pronoun, nominative + verb 'to have', present tense, 3rd person singular\n",
            "    who's that's\n",
            "WPS+MD: WH-pronoun, nominative + modal auxillary\n",
            "    who'll that'd who'd that'll\n",
            "WQL: WH-qualifier\n",
            "    however how\n",
            "WRB: WH-adverb\n",
            "    however when where why whereby wherever how whenever whereon wherein\n",
            "    wherewith wheare wherefore whereof howsabout\n",
            "WRB+BER: WH-adverb + verb 'to be', present, 2nd person singular or all persons plural\n",
            "    where're\n",
            "WRB+BEZ: WH-adverb + verb 'to be', present, 3rd person singular\n",
            "    how's where's\n",
            "WRB+DO: WH-adverb + verb 'to do', present, not 3rd person singular\n",
            "    howda\n",
            "WRB+DOD: WH-adverb + verb 'to do', past tense\n",
            "    where'd how'd\n",
            "WRB+DOD*: WH-adverb + verb 'to do', past tense, negated\n",
            "    whyn't\n",
            "WRB+DOZ: WH-adverb + verb 'to do', present tense, 3rd person singular\n",
            "    how's\n",
            "WRB+IN: WH-adverb + preposition\n",
            "    why'n\n",
            "WRB+MD: WH-adverb + modal auxillary\n",
            "    where'd\n"
          ]
        }
      ]
    },
    {
      "cell_type": "code",
      "source": [
        "del_tagged = nltk.pos_tag(del_word_tokens)"
      ],
      "metadata": {
        "id": "MVf5m_xzanAR"
      },
      "execution_count": 55,
      "outputs": []
    },
    {
      "cell_type": "code",
      "source": [
        "from pprint import pprint\n",
        "del_tagged[:20]"
      ],
      "metadata": {
        "colab": {
          "base_uri": "https://localhost:8080/"
        },
        "id": "p4WLkHwOam3f",
        "outputId": "19986079-7a96-432f-ee05-dea8d5df79e4"
      },
      "execution_count": 56,
      "outputs": [
        {
          "output_type": "execute_result",
          "data": {
            "text/plain": [
              "[('Iâ', 'NNP'),\n",
              " ('\\x80\\x99', 'NNP'),\n",
              " ('ll', 'VBZ'),\n",
              " ('cross', 'NN'),\n",
              " ('him', 'PRP'),\n",
              " ('though', 'IN'),\n",
              " ('he', 'PRP'),\n",
              " ('blast', 'VB'),\n",
              " ('me', 'PRP'),\n",
              " ('Harlequin', 'NNP'),\n",
              " ('do', 'VBP'),\n",
              " ('you', 'PRP'),\n",
              " ('fear', 'VB'),\n",
              " ('to', 'TO'),\n",
              " ('fight', 'VB'),\n",
              " ('the', 'DT'),\n",
              " ('devil', 'FW'),\n",
              " ('Your', 'PRP$'),\n",
              " ('persecutor', 'NN'),\n",
              " ('I', 'PRP')]"
            ]
          },
          "metadata": {},
          "execution_count": 56
        }
      ]
    },
    {
      "cell_type": "code",
      "source": [
        "adjectives = [token for token, pos in del_tagged if \"JJ\" == pos]\n"
      ],
      "metadata": {
        "id": "-51iwJlzbO_E"
      },
      "execution_count": 57,
      "outputs": []
    },
    {
      "cell_type": "code",
      "source": [
        "adjectives[:10]"
      ],
      "metadata": {
        "colab": {
          "base_uri": "https://localhost:8080/"
        },
        "id": "6A5rNnJXsQFg",
        "outputId": "93edea6a-e15b-4204-88c0-119f07f774fc"
      },
      "execution_count": 58,
      "outputs": [
        {
          "output_type": "execute_result",
          "data": {
            "text/plain": [
              "['many',\n",
              " 'happy',\n",
              " 'same',\n",
              " 'much',\n",
              " 'such',\n",
              " 'incautious',\n",
              " 'mischievous',\n",
              " 'poor',\n",
              " 'first',\n",
              " 'soft']"
            ]
          },
          "metadata": {},
          "execution_count": 58
        }
      ]
    },
    {
      "cell_type": "code",
      "source": [
        "adjectiveFreqs = nltk.FreqDist(adjectives)\n",
        "plt.figure(figsize=(20,10))\n",
        "adjectiveFreqs.plot(20, title=\"Delvile Speech Adjective Use\")"
      ],
      "metadata": {
        "colab": {
          "base_uri": "https://localhost:8080/",
          "height": 515
        },
        "id": "BYVn9uhvsgin",
        "outputId": "cb3f35d9-3480-4bb6-ee04-dd6920c0fcaf"
      },
      "execution_count": 59,
      "outputs": [
        {
          "output_type": "display_data",
          "data": {
            "text/plain": [
              "<Figure size 2000x1000 with 1 Axes>"
            ],
            "image/png": "[encoded data removed]"
          },
          "metadata": {}
        },
        {
          "output_type": "execute_result",
          "data": {
            "text/plain": [
              "<Axes: title={'center': 'Delvile Speech Adjective Use'}, xlabel='Samples', ylabel='Counts'>"
            ]
          },
          "metadata": {},
          "execution_count": 59
        }
      ]
    },
    {
      "cell_type": "code",
      "source": [
        "nouns = [token for token, pos in del_tagged if \"NN\" == pos]\n",
        "nounFreqs = nltk.FreqDist(nouns)\n",
        "plt.figure(figsize=(20,10))\n",
        "nounFreqs.plot(30, title=\"Devile Speech Noun Use\")"
      ],
      "metadata": {
        "colab": {
          "base_uri": "https://localhost:8080/",
          "height": 518
        },
        "id": "nIobyg_Xtdz7",
        "outputId": "6444434a-cce6-4b2f-d1a1-c11a0c11f140"
      },
      "execution_count": 60,
      "outputs": [
        {
          "output_type": "display_data",
          "data": {
            "text/plain": [
              "<Figure size 2000x1000 with 1 Axes>"
            ],
            "image/png": "[encoded data removed]"
          },
          "metadata": {}
        },
        {
          "output_type": "execute_result",
          "data": {
            "text/plain": [
              "<Axes: title={'center': 'Devile Speech Noun Use'}, xlabel='Samples', ylabel='Counts'>"
            ]
          },
          "metadata": {},
          "execution_count": 60
        }
      ]
    },
    {
      "cell_type": "code",
      "source": [
        "adverbs = [token for token, pos in del_tagged if \"RB\" == pos]\n",
        "adverbFreqs = nltk.FreqDist(adverbs)\n",
        "plt.figure(figsize=(20,10))\n",
        "adverbFreqs.plot(30, title=\"Delvile Speech Adverb Use\")"
      ],
      "metadata": {
        "colab": {
          "base_uri": "https://localhost:8080/",
          "height": 512
        },
        "id": "5riLP2lzuR6Y",
        "outputId": "4576a18e-ac43-4c0c-d85b-cb2e53ad6076"
      },
      "execution_count": 61,
      "outputs": [
        {
          "output_type": "display_data",
          "data": {
            "text/plain": [
              "<Figure size 2000x1000 with 1 Axes>"
            ],
            "image/png": "[encoded data removed]"
          },
          "metadata": {}
        },
        {
          "output_type": "execute_result",
          "data": {
            "text/plain": [
              "<Axes: title={'center': 'Delvile Speech Adverb Use'}, xlabel='Samples', ylabel='Counts'>"
            ]
          },
          "metadata": {},
          "execution_count": 61
        }
      ]
    },
    {
      "cell_type": "code",
      "source": [
        "processed_del_tagged = []\n",
        "for token,pos in del_tagged:\n",
        "  if token != \"\\\"\": #character escape, like \\n\n",
        "    processed_del_tagged.append((token,pos))"
      ],
      "metadata": {
        "id": "W2kVr8QuwzoU"
      },
      "execution_count": 62,
      "outputs": []
    },
    {
      "cell_type": "markdown",
      "source": [
        "###NER"
      ],
      "metadata": {
        "id": "6FoAHy1ax7Nz"
      }
    },
    {
      "cell_type": "code",
      "source": [
        "namedEnt = nltk.ne_chunk(del_tagged)"
      ],
      "metadata": {
        "id": "v7Csjsr0x8-9"
      },
      "execution_count": 63,
      "outputs": []
    },
    {
      "cell_type": "code",
      "source": [
        "namedEnt[:20]"
      ],
      "metadata": {
        "colab": {
          "base_uri": "https://localhost:8080/"
        },
        "id": "vLSojbFMypQp",
        "outputId": "b57c6ee7-1656-480b-a876-63adf95e7a97"
      },
      "execution_count": 64,
      "outputs": [
        {
          "output_type": "execute_result",
          "data": {
            "text/plain": [
              "[('Iâ', 'NNP'),\n",
              " ('\\x80\\x99', 'NNP'),\n",
              " ('ll', 'VBZ'),\n",
              " ('cross', 'NN'),\n",
              " ('him', 'PRP'),\n",
              " ('though', 'IN'),\n",
              " ('he', 'PRP'),\n",
              " ('blast', 'VB'),\n",
              " ('me', 'PRP'),\n",
              " ('Harlequin', 'NNP'),\n",
              " ('do', 'VBP'),\n",
              " ('you', 'PRP'),\n",
              " ('fear', 'VB'),\n",
              " ('to', 'TO'),\n",
              " ('fight', 'VB'),\n",
              " ('the', 'DT'),\n",
              " ('devil', 'FW'),\n",
              " ('Your', 'PRP$'),\n",
              " ('persecutor', 'NN'),\n",
              " ('I', 'PRP')]"
            ]
          },
          "metadata": {},
          "execution_count": 64
        }
      ]
    },
    {
      "cell_type": "code",
      "source": [
        "del_ne_list = []\n",
        "for chunk in namedEnt:\n",
        "  if hasattr(chunk, \"label\"):\n",
        "    del_ne_list.append(chunk.label() + \", \" + \" \".join(c[0] for c in chunk))"
      ],
      "metadata": {
        "id": "Ocgs1aMCzXTD"
      },
      "execution_count": 65,
      "outputs": []
    },
    {
      "cell_type": "code",
      "source": [
        "del_ne_list[:20]\n",
        "# This named entity list is not very reliable"
      ],
      "metadata": {
        "colab": {
          "base_uri": "https://localhost:8080/"
        },
        "id": "KEOLV_6ez9YI",
        "outputId": "d5fef782-2962-4bc4-9c0b-d3f43b663d8a"
      },
      "execution_count": 66,
      "outputs": [
        {
          "output_type": "execute_result",
          "data": {
            "text/plain": [
              "['ORGANIZATION, Don',\n",
              " 'PERSON, Pray',\n",
              " 'PERSON, Cerberus',\n",
              " 'GPE, Hope',\n",
              " 'GPE, Midas',\n",
              " 'PERSON, Briggs',\n",
              " 'PERSON, Briggs',\n",
              " 'PERSON, Which',\n",
              " 'GPE, French',\n",
              " 'GPE, Bristol',\n",
              " 'ORGANIZATION, Opera',\n",
              " 'PERSON, Sir Robert',\n",
              " 'ORGANIZATION, Opera',\n",
              " 'PERSON, Sir Robert',\n",
              " 'ORGANIZATION, Don Quixote',\n",
              " 'PERSON, Sir Robert',\n",
              " 'PERSON, Belfield',\n",
              " 'PERSON, Baronet',\n",
              " 'PERSON, Belfield',\n",
              " 'PERSON, Miss Beverley']"
            ]
          },
          "metadata": {},
          "execution_count": 66
        }
      ]
    },
    {
      "cell_type": "code",
      "source": [
        "entity = [token for token in del_ne_list if str(token).startswith(\"GPE\")]\n",
        "entity = nltk.FreqDist(entity)\n",
        "plt.figure(figsize=(20,10))\n",
        "entity.plot(30, title=\"Devile Speech Named Entities\")"
      ],
      "metadata": {
        "colab": {
          "base_uri": "https://localhost:8080/",
          "height": 532
        },
        "id": "7ken2aPD0SgK",
        "outputId": "0bca12d7-0260-48eb-f9e9-3a4433ef2855"
      },
      "execution_count": 67,
      "outputs": [
        {
          "output_type": "display_data",
          "data": {
            "text/plain": [
              "<Figure size 2000x1000 with 1 Axes>"
            ],
            "image/png": "[encoded data removed]"
          },
          "metadata": {}
        },
        {
          "output_type": "execute_result",
          "data": {
            "text/plain": [
              "<Axes: title={'center': 'Devile Speech Named Entities'}, xlabel='Samples', ylabel='Counts'>"
            ]
          },
          "metadata": {},
          "execution_count": 67
        }
      ]
    }
  ]
}